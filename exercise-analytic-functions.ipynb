{
 "cells": [
  {
   "cell_type": "markdown",
   "id": "36c1ed82",
   "metadata": {
    "papermill": {
     "duration": 0.004071,
     "end_time": "2023-12-22T08:57:04.396943",
     "exception": false,
     "start_time": "2023-12-22T08:57:04.392872",
     "status": "completed"
    },
    "tags": []
   },
   "source": [
    "**This notebook is an exercise in the [Advanced SQL](https://www.kaggle.com/learn/advanced-sql) course.  You can reference the tutorial at [this link](https://www.kaggle.com/alexisbcook/analytic-functions).**\n",
    "\n",
    "---\n"
   ]
  },
  {
   "cell_type": "markdown",
   "id": "0459b93d",
   "metadata": {
    "papermill": {
     "duration": 0.003253,
     "end_time": "2023-12-22T08:57:04.403955",
     "exception": false,
     "start_time": "2023-12-22T08:57:04.400702",
     "status": "completed"
    },
    "tags": []
   },
   "source": [
    "# Introduction\n",
    "\n",
    "Here, you'll use window functions to answer questions about the [Chicago Taxi Trips](https://www.kaggle.com/chicago/chicago-taxi-trips-bq) dataset.\n",
    "\n",
    "Before you get started, run the code cell below to set everything up."
   ]
  },
  {
   "cell_type": "code",
   "execution_count": 1,
   "id": "f4e53703",
   "metadata": {
    "execution": {
     "iopub.execute_input": "2023-12-22T08:57:04.412989Z",
     "iopub.status.busy": "2023-12-22T08:57:04.412379Z",
     "iopub.status.idle": "2023-12-22T08:58:04.059761Z",
     "shell.execute_reply": "2023-12-22T08:58:04.058052Z"
    },
    "papermill": {
     "duration": 59.654336,
     "end_time": "2023-12-22T08:58:04.061772",
     "exception": false,
     "start_time": "2023-12-22T08:57:04.407436",
     "status": "completed"
    },
    "tags": []
   },
   "outputs": [
    {
     "name": "stdout",
     "output_type": "stream",
     "text": [
      "Collecting git+https://github.com/Kaggle/learntools.git\r\n",
      "  Cloning https://github.com/Kaggle/learntools.git to /tmp/pip-req-build-om9xvk32\r\n",
      "  Running command git clone --filter=blob:none --quiet https://github.com/Kaggle/learntools.git /tmp/pip-req-build-om9xvk32\r\n",
      "  fatal: unable to access 'https://github.com/Kaggle/learntools.git/': Could not resolve host: github.com\r\n",
      "  \u001b[1;31merror\u001b[0m: \u001b[1msubprocess-exited-with-error\u001b[0m\r\n",
      "  \r\n",
      "  \u001b[31m×\u001b[0m \u001b[32mgit clone --\u001b[0m\u001b[32mfilter\u001b[0m\u001b[32m=\u001b[0m\u001b[32mblob\u001b[0m\u001b[32m:none --quiet \u001b[0m\u001b[4;32mhttps://github.com/Kaggle/learntools.git\u001b[0m\u001b[32m \u001b[0m\u001b[32m/tmp/\u001b[0m\u001b[32mpip-req-build-om9xvk32\u001b[0m did not run successfully.\r\n",
      "  \u001b[31m│\u001b[0m exit code: \u001b[1;36m128\u001b[0m\r\n",
      "  \u001b[31m╰─>\u001b[0m See above for output.\r\n",
      "  \r\n",
      "  \u001b[1;35mnote\u001b[0m: This error originates from a subprocess, and is likely not a problem with pip.\r\n",
      "\u001b[1;31merror\u001b[0m: \u001b[1msubprocess-exited-with-error\u001b[0m\r\n",
      "\r\n",
      "\u001b[31m×\u001b[0m \u001b[32mgit clone --\u001b[0m\u001b[32mfilter\u001b[0m\u001b[32m=\u001b[0m\u001b[32mblob\u001b[0m\u001b[32m:none --quiet \u001b[0m\u001b[4;32mhttps://github.com/Kaggle/learntools.git\u001b[0m\u001b[32m \u001b[0m\u001b[32m/tmp/\u001b[0m\u001b[32mpip-req-build-om9xvk32\u001b[0m did not run successfully.\r\n",
      "\u001b[31m│\u001b[0m exit code: \u001b[1;36m128\u001b[0m\r\n",
      "\u001b[31m╰─>\u001b[0m See above for output.\r\n",
      "\r\n",
      "\u001b[1;35mnote\u001b[0m: This error originates from a subprocess, and is likely not a problem with pip.\r\n",
      "Using Kaggle's public dataset BigQuery integration.\n",
      "Setup Complete\n"
     ]
    }
   ],
   "source": [
    "# Get most recent checking code\n",
    "!pip install -U -t /kaggle/working/ git+https://github.com/Kaggle/learntools.git\n",
    "# Set up feedback system\n",
    "from learntools.core import binder\n",
    "binder.bind(globals())\n",
    "from learntools.sql_advanced.ex2 import *\n",
    "print(\"Setup Complete\")"
   ]
  },
  {
   "cell_type": "markdown",
   "id": "2ade7e5c",
   "metadata": {
    "papermill": {
     "duration": 0.003635,
     "end_time": "2023-12-22T08:58:04.069503",
     "exception": false,
     "start_time": "2023-12-22T08:58:04.065868",
     "status": "completed"
    },
    "tags": []
   },
   "source": [
    "The following code cell fetches the `taxi_trips` table from the `chicago_taxi_trips` dataset. We also preview the first five rows of the table.  You'll use the table to answer the questions below."
   ]
  },
  {
   "cell_type": "code",
   "execution_count": 2,
   "id": "79a28e74",
   "metadata": {
    "execution": {
     "iopub.execute_input": "2023-12-22T08:58:04.078685Z",
     "iopub.status.busy": "2023-12-22T08:58:04.078182Z",
     "iopub.status.idle": "2023-12-22T08:58:05.471371Z",
     "shell.execute_reply": "2023-12-22T08:58:05.470171Z"
    },
    "papermill": {
     "duration": 1.400713,
     "end_time": "2023-12-22T08:58:05.473900",
     "exception": false,
     "start_time": "2023-12-22T08:58:04.073187",
     "status": "completed"
    },
    "tags": []
   },
   "outputs": [
    {
     "name": "stdout",
     "output_type": "stream",
     "text": [
      "Using Kaggle's public dataset BigQuery integration.\n"
     ]
    },
    {
     "data": {
      "text/html": [
       "<div>\n",
       "<style scoped>\n",
       "    .dataframe tbody tr th:only-of-type {\n",
       "        vertical-align: middle;\n",
       "    }\n",
       "\n",
       "    .dataframe tbody tr th {\n",
       "        vertical-align: top;\n",
       "    }\n",
       "\n",
       "    .dataframe thead th {\n",
       "        text-align: right;\n",
       "    }\n",
       "</style>\n",
       "<table border=\"1\" class=\"dataframe\">\n",
       "  <thead>\n",
       "    <tr style=\"text-align: right;\">\n",
       "      <th></th>\n",
       "      <th>unique_key</th>\n",
       "      <th>taxi_id</th>\n",
       "      <th>trip_start_timestamp</th>\n",
       "      <th>trip_end_timestamp</th>\n",
       "      <th>trip_seconds</th>\n",
       "      <th>trip_miles</th>\n",
       "      <th>pickup_census_tract</th>\n",
       "      <th>dropoff_census_tract</th>\n",
       "      <th>pickup_community_area</th>\n",
       "      <th>dropoff_community_area</th>\n",
       "      <th>...</th>\n",
       "      <th>extras</th>\n",
       "      <th>trip_total</th>\n",
       "      <th>payment_type</th>\n",
       "      <th>company</th>\n",
       "      <th>pickup_latitude</th>\n",
       "      <th>pickup_longitude</th>\n",
       "      <th>pickup_location</th>\n",
       "      <th>dropoff_latitude</th>\n",
       "      <th>dropoff_longitude</th>\n",
       "      <th>dropoff_location</th>\n",
       "    </tr>\n",
       "  </thead>\n",
       "  <tbody>\n",
       "    <tr>\n",
       "      <th>0</th>\n",
       "      <td>f37cef48d983edb5ae10ed2cdbdea6648cec2b90</td>\n",
       "      <td>ad4b1730fcbfdb84e41313179a688924012db322823f48...</td>\n",
       "      <td>2023-06-01 08:45:00+00:00</td>\n",
       "      <td>2023-06-01 08:45:00+00:00</td>\n",
       "      <td>57</td>\n",
       "      <td>0.0</td>\n",
       "      <td>NaN</td>\n",
       "      <td>NaN</td>\n",
       "      <td>NaN</td>\n",
       "      <td>NaN</td>\n",
       "      <td>...</td>\n",
       "      <td>0.0</td>\n",
       "      <td>3.50</td>\n",
       "      <td>Cash</td>\n",
       "      <td>Flash Cab</td>\n",
       "      <td>NaN</td>\n",
       "      <td>NaN</td>\n",
       "      <td>None</td>\n",
       "      <td>NaN</td>\n",
       "      <td>NaN</td>\n",
       "      <td>None</td>\n",
       "    </tr>\n",
       "    <tr>\n",
       "      <th>1</th>\n",
       "      <td>f4eb3ed7cf1456df3aee3d8375100afa2d30866a</td>\n",
       "      <td>b15d5dba7f578c2e93e08c66d7a9b57bc35c9f316265cb...</td>\n",
       "      <td>2023-06-25 19:45:00+00:00</td>\n",
       "      <td>2023-06-25 19:45:00+00:00</td>\n",
       "      <td>8</td>\n",
       "      <td>0.0</td>\n",
       "      <td>NaN</td>\n",
       "      <td>NaN</td>\n",
       "      <td>NaN</td>\n",
       "      <td>NaN</td>\n",
       "      <td>...</td>\n",
       "      <td>0.0</td>\n",
       "      <td>33.00</td>\n",
       "      <td>Credit Card</td>\n",
       "      <td>Taxicab Insurance Agency Llc</td>\n",
       "      <td>NaN</td>\n",
       "      <td>NaN</td>\n",
       "      <td>None</td>\n",
       "      <td>NaN</td>\n",
       "      <td>NaN</td>\n",
       "      <td>None</td>\n",
       "    </tr>\n",
       "    <tr>\n",
       "      <th>2</th>\n",
       "      <td>f3c8d1c292d3a4bfcd3c52103d8e9d1b278c4632</td>\n",
       "      <td>c9867d006415cbc16529555f98cdeb44cb53aeaf1d9ae7...</td>\n",
       "      <td>2023-06-03 22:45:00+00:00</td>\n",
       "      <td>2023-06-03 22:45:00+00:00</td>\n",
       "      <td>0</td>\n",
       "      <td>0.0</td>\n",
       "      <td>NaN</td>\n",
       "      <td>NaN</td>\n",
       "      <td>NaN</td>\n",
       "      <td>NaN</td>\n",
       "      <td>...</td>\n",
       "      <td>0.0</td>\n",
       "      <td>10.25</td>\n",
       "      <td>Cash</td>\n",
       "      <td>Taxi Affiliation Services</td>\n",
       "      <td>NaN</td>\n",
       "      <td>NaN</td>\n",
       "      <td>None</td>\n",
       "      <td>NaN</td>\n",
       "      <td>NaN</td>\n",
       "      <td>None</td>\n",
       "    </tr>\n",
       "    <tr>\n",
       "      <th>3</th>\n",
       "      <td>f5105921ebf789606e80d1fb1d736ba2a4093fd7</td>\n",
       "      <td>1ecd824aa3fbb5a17d617c3ce214040c91599cb342f7a7...</td>\n",
       "      <td>2023-06-17 16:45:00+00:00</td>\n",
       "      <td>2023-06-17 17:15:00+00:00</td>\n",
       "      <td>2100</td>\n",
       "      <td>0.0</td>\n",
       "      <td>NaN</td>\n",
       "      <td>NaN</td>\n",
       "      <td>NaN</td>\n",
       "      <td>NaN</td>\n",
       "      <td>...</td>\n",
       "      <td>23.5</td>\n",
       "      <td>50.00</td>\n",
       "      <td>Credit Card</td>\n",
       "      <td>Chicago City Taxi Association</td>\n",
       "      <td>NaN</td>\n",
       "      <td>NaN</td>\n",
       "      <td>None</td>\n",
       "      <td>NaN</td>\n",
       "      <td>NaN</td>\n",
       "      <td>None</td>\n",
       "    </tr>\n",
       "    <tr>\n",
       "      <th>4</th>\n",
       "      <td>f3f06434e7a81119d27954adddce9cdb88f927f5</td>\n",
       "      <td>520ceeda508661c3d09a4d7b85c955a6c971d0cca9c109...</td>\n",
       "      <td>2023-06-13 18:15:00+00:00</td>\n",
       "      <td>2023-06-13 18:15:00+00:00</td>\n",
       "      <td>25</td>\n",
       "      <td>0.0</td>\n",
       "      <td>NaN</td>\n",
       "      <td>NaN</td>\n",
       "      <td>NaN</td>\n",
       "      <td>NaN</td>\n",
       "      <td>...</td>\n",
       "      <td>0.0</td>\n",
       "      <td>30.50</td>\n",
       "      <td>Credit Card</td>\n",
       "      <td>Flash Cab</td>\n",
       "      <td>NaN</td>\n",
       "      <td>NaN</td>\n",
       "      <td>None</td>\n",
       "      <td>NaN</td>\n",
       "      <td>NaN</td>\n",
       "      <td>None</td>\n",
       "    </tr>\n",
       "  </tbody>\n",
       "</table>\n",
       "<p>5 rows × 23 columns</p>\n",
       "</div>"
      ],
      "text/plain": [
       "                                 unique_key  \\\n",
       "0  f37cef48d983edb5ae10ed2cdbdea6648cec2b90   \n",
       "1  f4eb3ed7cf1456df3aee3d8375100afa2d30866a   \n",
       "2  f3c8d1c292d3a4bfcd3c52103d8e9d1b278c4632   \n",
       "3  f5105921ebf789606e80d1fb1d736ba2a4093fd7   \n",
       "4  f3f06434e7a81119d27954adddce9cdb88f927f5   \n",
       "\n",
       "                                             taxi_id  \\\n",
       "0  ad4b1730fcbfdb84e41313179a688924012db322823f48...   \n",
       "1  b15d5dba7f578c2e93e08c66d7a9b57bc35c9f316265cb...   \n",
       "2  c9867d006415cbc16529555f98cdeb44cb53aeaf1d9ae7...   \n",
       "3  1ecd824aa3fbb5a17d617c3ce214040c91599cb342f7a7...   \n",
       "4  520ceeda508661c3d09a4d7b85c955a6c971d0cca9c109...   \n",
       "\n",
       "       trip_start_timestamp        trip_end_timestamp  trip_seconds  \\\n",
       "0 2023-06-01 08:45:00+00:00 2023-06-01 08:45:00+00:00            57   \n",
       "1 2023-06-25 19:45:00+00:00 2023-06-25 19:45:00+00:00             8   \n",
       "2 2023-06-03 22:45:00+00:00 2023-06-03 22:45:00+00:00             0   \n",
       "3 2023-06-17 16:45:00+00:00 2023-06-17 17:15:00+00:00          2100   \n",
       "4 2023-06-13 18:15:00+00:00 2023-06-13 18:15:00+00:00            25   \n",
       "\n",
       "   trip_miles  pickup_census_tract  dropoff_census_tract  \\\n",
       "0         0.0                  NaN                   NaN   \n",
       "1         0.0                  NaN                   NaN   \n",
       "2         0.0                  NaN                   NaN   \n",
       "3         0.0                  NaN                   NaN   \n",
       "4         0.0                  NaN                   NaN   \n",
       "\n",
       "   pickup_community_area  dropoff_community_area  ...  extras  trip_total  \\\n",
       "0                    NaN                     NaN  ...     0.0        3.50   \n",
       "1                    NaN                     NaN  ...     0.0       33.00   \n",
       "2                    NaN                     NaN  ...     0.0       10.25   \n",
       "3                    NaN                     NaN  ...    23.5       50.00   \n",
       "4                    NaN                     NaN  ...     0.0       30.50   \n",
       "\n",
       "   payment_type                        company  pickup_latitude  \\\n",
       "0          Cash                      Flash Cab              NaN   \n",
       "1   Credit Card   Taxicab Insurance Agency Llc              NaN   \n",
       "2          Cash      Taxi Affiliation Services              NaN   \n",
       "3   Credit Card  Chicago City Taxi Association              NaN   \n",
       "4   Credit Card                      Flash Cab              NaN   \n",
       "\n",
       "  pickup_longitude pickup_location  dropoff_latitude  dropoff_longitude  \\\n",
       "0              NaN            None               NaN                NaN   \n",
       "1              NaN            None               NaN                NaN   \n",
       "2              NaN            None               NaN                NaN   \n",
       "3              NaN            None               NaN                NaN   \n",
       "4              NaN            None               NaN                NaN   \n",
       "\n",
       "  dropoff_location  \n",
       "0             None  \n",
       "1             None  \n",
       "2             None  \n",
       "3             None  \n",
       "4             None  \n",
       "\n",
       "[5 rows x 23 columns]"
      ]
     },
     "execution_count": 2,
     "metadata": {},
     "output_type": "execute_result"
    }
   ],
   "source": [
    "from google.cloud import bigquery\n",
    "\n",
    "# Create a \"Client\" object\n",
    "client = bigquery.Client()\n",
    "\n",
    "# Construct a reference to the \"chicago_taxi_trips\" dataset\n",
    "dataset_ref = client.dataset(\"chicago_taxi_trips\", project=\"bigquery-public-data\")\n",
    "\n",
    "# API request - fetch the dataset\n",
    "dataset = client.get_dataset(dataset_ref)\n",
    "\n",
    "# Construct a reference to the \"taxi_trips\" table\n",
    "table_ref = dataset_ref.table(\"taxi_trips\")\n",
    "\n",
    "# API request - fetch the table\n",
    "table = client.get_table(table_ref)\n",
    "\n",
    "# Preview the first five lines of the table\n",
    "client.list_rows(table, max_results=5).to_dataframe()"
   ]
  },
  {
   "cell_type": "markdown",
   "id": "86f6c64b",
   "metadata": {
    "papermill": {
     "duration": 0.00395,
     "end_time": "2023-12-22T08:58:05.482364",
     "exception": false,
     "start_time": "2023-12-22T08:58:05.478414",
     "status": "completed"
    },
    "tags": []
   },
   "source": [
    "# Exercises\n",
    "\n",
    "### 1) How can you predict the demand for taxis?\n",
    "\n",
    "Say you work for a taxi company, and you're interested in predicting the demand for taxis.  Towards this goal, you'd like to create a plot that shows a rolling average of the daily number of taxi trips.  Amend the (partial) query below to return a DataFrame with two columns:\n",
    "- `trip_date` - contains one entry for each date from January 1, 2016, to March 31, 2016.\n",
    "- `avg_num_trips` - shows the average number of daily trips, calculated over a window including the value for the current date, along with the values for the preceding 3 days and the following 3 days, as long as the days fit within the three-month time frame.  For instance, when calculating the value in this column for January 3, 2016, the window will include the number of trips for the preceding 2 days, the current date, and the following 3 days.\n",
    "\n",
    "This query is partially completed for you, and you need only write the part that calculates the `avg_num_trips` column.  Note that this query uses a common table expression (CTE); if you need to review how to use CTEs, you're encouraged to check out [this tutorial](https://www.kaggle.com/dansbecker/as-with) in the [Intro to SQL](https://www.kaggle.com/learn/intro-to-sql) course."
   ]
  },
  {
   "cell_type": "code",
   "execution_count": 3,
   "id": "342ded3f",
   "metadata": {
    "execution": {
     "iopub.execute_input": "2023-12-22T08:58:05.492922Z",
     "iopub.status.busy": "2023-12-22T08:58:05.492566Z",
     "iopub.status.idle": "2023-12-22T08:58:08.383486Z",
     "shell.execute_reply": "2023-12-22T08:58:08.382430Z"
    },
    "papermill": {
     "duration": 2.899458,
     "end_time": "2023-12-22T08:58:08.385926",
     "exception": false,
     "start_time": "2023-12-22T08:58:05.486468",
     "status": "completed"
    },
    "tags": []
   },
   "outputs": [
    {
     "data": {
      "text/html": [
       "<div>\n",
       "<style scoped>\n",
       "    .dataframe tbody tr th:only-of-type {\n",
       "        vertical-align: middle;\n",
       "    }\n",
       "\n",
       "    .dataframe tbody tr th {\n",
       "        vertical-align: top;\n",
       "    }\n",
       "\n",
       "    .dataframe thead th {\n",
       "        text-align: right;\n",
       "    }\n",
       "</style>\n",
       "<table border=\"1\" class=\"dataframe\">\n",
       "  <thead>\n",
       "    <tr style=\"text-align: right;\">\n",
       "      <th></th>\n",
       "      <th>trip_date</th>\n",
       "      <th>avg_num_trips</th>\n",
       "    </tr>\n",
       "  </thead>\n",
       "  <tbody>\n",
       "    <tr>\n",
       "      <th>0</th>\n",
       "      <td>2016-02-14</td>\n",
       "      <td>92247.142857</td>\n",
       "    </tr>\n",
       "    <tr>\n",
       "      <th>1</th>\n",
       "      <td>2016-01-31</td>\n",
       "      <td>80539.000000</td>\n",
       "    </tr>\n",
       "    <tr>\n",
       "      <th>2</th>\n",
       "      <td>2016-03-10</td>\n",
       "      <td>98769.714286</td>\n",
       "    </tr>\n",
       "    <tr>\n",
       "      <th>3</th>\n",
       "      <td>2016-02-01</td>\n",
       "      <td>80464.571429</td>\n",
       "    </tr>\n",
       "    <tr>\n",
       "      <th>4</th>\n",
       "      <td>2016-03-14</td>\n",
       "      <td>102758.000000</td>\n",
       "    </tr>\n",
       "  </tbody>\n",
       "</table>\n",
       "</div>"
      ],
      "text/plain": [
       "    trip_date  avg_num_trips\n",
       "0  2016-02-14   92247.142857\n",
       "1  2016-01-31   80539.000000\n",
       "2  2016-03-10   98769.714286\n",
       "3  2016-02-01   80464.571429\n",
       "4  2016-03-14  102758.000000"
      ]
     },
     "metadata": {},
     "output_type": "display_data"
    },
    {
     "data": {
      "application/javascript": [
       "parent.postMessage({\"jupyterEvent\": \"custom.exercise_interaction\", \"data\": {\"outcomeType\": 1, \"valueTowardsCompletion\": 0.3333333333333333, \"interactionType\": 1, \"questionType\": 2, \"questionId\": \"1_TaxiDemand\", \"learnToolsVersion\": \"0.3.4\", \"failureMessage\": \"\", \"exceptionClass\": \"\", \"trace\": \"\"}}, \"*\")"
      ],
      "text/plain": [
       "<IPython.core.display.Javascript object>"
      ]
     },
     "metadata": {},
     "output_type": "display_data"
    },
    {
     "data": {
      "text/markdown": [
       "<span style=\"color:#33cc33\">Correct</span>"
      ],
      "text/plain": [
       "Correct"
      ]
     },
     "metadata": {},
     "output_type": "display_data"
    }
   ],
   "source": [
    "# Fill in the blank below\n",
    "avg_num_trips_query = \"\"\"\n",
    "                      WITH trips_by_day AS\n",
    "                      (\n",
    "                      SELECT DATE(trip_start_timestamp) AS trip_date,\n",
    "                          COUNT(*) as num_trips\n",
    "                      FROM `bigquery-public-data.chicago_taxi_trips.taxi_trips`\n",
    "                      WHERE trip_start_timestamp > '2016-01-01' AND trip_start_timestamp < '2016-04-01'\n",
    "                      GROUP BY trip_date\n",
    "                      ORDER BY trip_date\n",
    "                      )\n",
    "                      SELECT trip_date,\n",
    "                             AVG(num_trips)\n",
    "                                 OVER(\n",
    "                                     ORDER BY trip_date\n",
    "                                     ROWS BETWEEN 3 PRECEDING AND 3 FOLLOWING\n",
    "                                     ) AS avg_num_trips\n",
    "                      FROM trips_by_day\n",
    "                      \"\"\"\n",
    "\n",
    "# Check your answer\n",
    "q_1.check()"
   ]
  },
  {
   "cell_type": "code",
   "execution_count": 4,
   "id": "7bbf9b6f",
   "metadata": {
    "execution": {
     "iopub.execute_input": "2023-12-22T08:58:08.397114Z",
     "iopub.status.busy": "2023-12-22T08:58:08.396786Z",
     "iopub.status.idle": "2023-12-22T08:58:08.400719Z",
     "shell.execute_reply": "2023-12-22T08:58:08.399453Z"
    },
    "papermill": {
     "duration": 0.012115,
     "end_time": "2023-12-22T08:58:08.402968",
     "exception": false,
     "start_time": "2023-12-22T08:58:08.390853",
     "status": "completed"
    },
    "tags": []
   },
   "outputs": [],
   "source": [
    "# Lines below will give you a hint or solution code\n",
    "#q_1.hint()\n",
    "# q_1.solution()"
   ]
  },
  {
   "cell_type": "markdown",
   "id": "939a6d55",
   "metadata": {
    "papermill": {
     "duration": 0.004268,
     "end_time": "2023-12-22T08:58:08.412146",
     "exception": false,
     "start_time": "2023-12-22T08:58:08.407878",
     "status": "completed"
    },
    "tags": []
   },
   "source": [
    "### 2) Can you separate and order trips by community area?\n",
    "\n",
    "The query below returns a DataFrame with three columns from the table: `pickup_community_area`, `trip_start_timestamp`, and `trip_end_timestamp`.  \n",
    "\n",
    "Amend the query to return an additional column called `trip_number` which shows the order in which the trips were taken from their respective community areas.  So, the first trip of the day originating from community area 1 should receive a value of 1; the second trip of the day from the same area should receive a value of 2.  Likewise, the first trip of the day from community area 2 should receive a value of 1, and so on.\n",
    "\n",
    "Note that there are many numbering functions that can be used to solve this problem (depending on how you want to deal with trips that started at the same time from the same community area); to answer this question, please use the **RANK()** function."
   ]
  },
  {
   "cell_type": "code",
   "execution_count": 5,
   "id": "f126c376",
   "metadata": {
    "execution": {
     "iopub.execute_input": "2023-12-22T08:58:08.423122Z",
     "iopub.status.busy": "2023-12-22T08:58:08.422699Z",
     "iopub.status.idle": "2023-12-22T08:58:15.122265Z",
     "shell.execute_reply": "2023-12-22T08:58:15.121337Z"
    },
    "papermill": {
     "duration": 6.707936,
     "end_time": "2023-12-22T08:58:15.124576",
     "exception": false,
     "start_time": "2023-12-22T08:58:08.416640",
     "status": "completed"
    },
    "tags": []
   },
   "outputs": [
    {
     "data": {
      "text/html": [
       "<div>\n",
       "<style scoped>\n",
       "    .dataframe tbody tr th:only-of-type {\n",
       "        vertical-align: middle;\n",
       "    }\n",
       "\n",
       "    .dataframe tbody tr th {\n",
       "        vertical-align: top;\n",
       "    }\n",
       "\n",
       "    .dataframe thead th {\n",
       "        text-align: right;\n",
       "    }\n",
       "</style>\n",
       "<table border=\"1\" class=\"dataframe\">\n",
       "  <thead>\n",
       "    <tr style=\"text-align: right;\">\n",
       "      <th></th>\n",
       "      <th>pickup_community_area</th>\n",
       "      <th>trip_start_timestamp</th>\n",
       "      <th>trip_end_timestamp</th>\n",
       "      <th>trip_number</th>\n",
       "    </tr>\n",
       "  </thead>\n",
       "  <tbody>\n",
       "    <tr>\n",
       "      <th>0</th>\n",
       "      <td>19.0</td>\n",
       "      <td>2013-10-03 00:00:00+00:00</td>\n",
       "      <td>2013-10-03 00:00:00+00:00</td>\n",
       "      <td>1</td>\n",
       "    </tr>\n",
       "    <tr>\n",
       "      <th>1</th>\n",
       "      <td>19.0</td>\n",
       "      <td>2013-10-03 00:00:00+00:00</td>\n",
       "      <td>2013-10-03 00:00:00+00:00</td>\n",
       "      <td>1</td>\n",
       "    </tr>\n",
       "    <tr>\n",
       "      <th>2</th>\n",
       "      <td>19.0</td>\n",
       "      <td>2013-10-03 03:30:00+00:00</td>\n",
       "      <td>2013-10-03 04:15:00+00:00</td>\n",
       "      <td>3</td>\n",
       "    </tr>\n",
       "    <tr>\n",
       "      <th>3</th>\n",
       "      <td>19.0</td>\n",
       "      <td>2013-10-03 06:45:00+00:00</td>\n",
       "      <td>2013-10-03 06:45:00+00:00</td>\n",
       "      <td>4</td>\n",
       "    </tr>\n",
       "    <tr>\n",
       "      <th>4</th>\n",
       "      <td>19.0</td>\n",
       "      <td>2013-10-03 08:00:00+00:00</td>\n",
       "      <td>2013-10-03 08:45:00+00:00</td>\n",
       "      <td>5</td>\n",
       "    </tr>\n",
       "  </tbody>\n",
       "</table>\n",
       "</div>"
      ],
      "text/plain": [
       "   pickup_community_area      trip_start_timestamp        trip_end_timestamp  \\\n",
       "0                   19.0 2013-10-03 00:00:00+00:00 2013-10-03 00:00:00+00:00   \n",
       "1                   19.0 2013-10-03 00:00:00+00:00 2013-10-03 00:00:00+00:00   \n",
       "2                   19.0 2013-10-03 03:30:00+00:00 2013-10-03 04:15:00+00:00   \n",
       "3                   19.0 2013-10-03 06:45:00+00:00 2013-10-03 06:45:00+00:00   \n",
       "4                   19.0 2013-10-03 08:00:00+00:00 2013-10-03 08:45:00+00:00   \n",
       "\n",
       "   trip_number  \n",
       "0            1  \n",
       "1            1  \n",
       "2            3  \n",
       "3            4  \n",
       "4            5  "
      ]
     },
     "metadata": {},
     "output_type": "display_data"
    },
    {
     "data": {
      "application/javascript": [
       "parent.postMessage({\"jupyterEvent\": \"custom.exercise_interaction\", \"data\": {\"outcomeType\": 1, \"valueTowardsCompletion\": 0.3333333333333333, \"interactionType\": 1, \"questionType\": 2, \"questionId\": \"2_CommunityArea\", \"learnToolsVersion\": \"0.3.4\", \"failureMessage\": \"\", \"exceptionClass\": \"\", \"trace\": \"\"}}, \"*\")"
      ],
      "text/plain": [
       "<IPython.core.display.Javascript object>"
      ]
     },
     "metadata": {},
     "output_type": "display_data"
    },
    {
     "data": {
      "text/markdown": [
       "<span style=\"color:#33cc33\">Correct</span>"
      ],
      "text/plain": [
       "Correct"
      ]
     },
     "metadata": {},
     "output_type": "display_data"
    }
   ],
   "source": [
    "# Amend the query below\n",
    "trip_number_query = \"\"\"\n",
    "                    SELECT  pickup_community_area,\n",
    "                            trip_start_timestamp,\n",
    "                            trip_end_timestamp,\n",
    "                            RANK() OVER (\n",
    "                                         PARTITION BY pickup_community_area\n",
    "                                         ORDER BY trip_start_timestamp\n",
    "                                        ) AS trip_number\n",
    "                    FROM `bigquery-public-data.chicago_taxi_trips.taxi_trips`\n",
    "                    WHERE DATE(trip_start_timestamp) = '2013-10-03'\n",
    "                    \"\"\"\n",
    "\n",
    "# Check your answer\n",
    "q_2.check()"
   ]
  },
  {
   "cell_type": "code",
   "execution_count": 6,
   "id": "f339f5d2",
   "metadata": {
    "execution": {
     "iopub.execute_input": "2023-12-22T08:58:15.136372Z",
     "iopub.status.busy": "2023-12-22T08:58:15.135962Z",
     "iopub.status.idle": "2023-12-22T08:58:15.140476Z",
     "shell.execute_reply": "2023-12-22T08:58:15.139164Z"
    },
    "papermill": {
     "duration": 0.012577,
     "end_time": "2023-12-22T08:58:15.142424",
     "exception": false,
     "start_time": "2023-12-22T08:58:15.129847",
     "status": "completed"
    },
    "tags": []
   },
   "outputs": [],
   "source": [
    "# Lines below will give you a hint or solution code\n",
    "#q_2.hint()\n",
    "# q_2.solution()"
   ]
  },
  {
   "cell_type": "markdown",
   "id": "fac32dc3",
   "metadata": {
    "papermill": {
     "duration": 0.004853,
     "end_time": "2023-12-22T08:58:15.153081",
     "exception": false,
     "start_time": "2023-12-22T08:58:15.148228",
     "status": "completed"
    },
    "tags": []
   },
   "source": [
    "### 3) How much time elapses between trips?\n",
    "\n",
    "The (partial) query in the code cell below shows, for each trip in the selected time frame, the corresponding `taxi_id`, `trip_start_timestamp`, and `trip_end_timestamp`. \n",
    "\n",
    "Your task in this exercise is to edit the query to include an additional `prev_break` column that shows the length of the break (in minutes) that the driver had before each trip started (this corresponds to the time between `trip_start_timestamp` of the current trip and `trip_end_timestamp` of the previous trip).  Partition the calculation by `taxi_id`, and order the results within each partition by `trip_start_timestamp`.\n",
    "\n",
    "Some sample results are shown below, where all rows correspond to the same driver (or `taxi_id`).  Take the time now to make sure that the values in the `prev_break` column make sense to you!\n",
    "\n",
    "![first_commands](https://storage.googleapis.com/kaggle-media/learn/images/qjvQzg8.png)\n",
    "\n",
    "Note that the first trip of the day for each driver should have a value of **NaN** (not a number) in the `prev_break` column."
   ]
  },
  {
   "cell_type": "code",
   "execution_count": 7,
   "id": "831440d9",
   "metadata": {
    "execution": {
     "iopub.execute_input": "2023-12-22T08:58:15.164555Z",
     "iopub.status.busy": "2023-12-22T08:58:15.164202Z",
     "iopub.status.idle": "2023-12-22T08:58:26.721593Z",
     "shell.execute_reply": "2023-12-22T08:58:26.720683Z"
    },
    "papermill": {
     "duration": 11.565128,
     "end_time": "2023-12-22T08:58:26.723257",
     "exception": false,
     "start_time": "2023-12-22T08:58:15.158129",
     "status": "completed"
    },
    "tags": []
   },
   "outputs": [
    {
     "data": {
      "text/html": [
       "<div>\n",
       "<style scoped>\n",
       "    .dataframe tbody tr th:only-of-type {\n",
       "        vertical-align: middle;\n",
       "    }\n",
       "\n",
       "    .dataframe tbody tr th {\n",
       "        vertical-align: top;\n",
       "    }\n",
       "\n",
       "    .dataframe thead th {\n",
       "        text-align: right;\n",
       "    }\n",
       "</style>\n",
       "<table border=\"1\" class=\"dataframe\">\n",
       "  <thead>\n",
       "    <tr style=\"text-align: right;\">\n",
       "      <th></th>\n",
       "      <th>taxi_id</th>\n",
       "      <th>trip_start_timestamp</th>\n",
       "      <th>trip_end_timestamp</th>\n",
       "      <th>prev_break</th>\n",
       "    </tr>\n",
       "  </thead>\n",
       "  <tbody>\n",
       "    <tr>\n",
       "      <th>0</th>\n",
       "      <td>1deedd2ca018f2b78a3d8cb14905a763b5a77b16097fdb...</td>\n",
       "      <td>2013-10-03 19:00:00+00:00</td>\n",
       "      <td>2013-10-03 19:15:00+00:00</td>\n",
       "      <td>390.0</td>\n",
       "    </tr>\n",
       "    <tr>\n",
       "      <th>1</th>\n",
       "      <td>29b6866f97b4ee801bebc5fc21758f7092c13f43884c58...</td>\n",
       "      <td>2013-10-03 18:45:00+00:00</td>\n",
       "      <td>2013-10-03 18:45:00+00:00</td>\n",
       "      <td>480.0</td>\n",
       "    </tr>\n",
       "    <tr>\n",
       "      <th>2</th>\n",
       "      <td>382c449a49e179aada54d185943d41afc724eae1fca80e...</td>\n",
       "      <td>2013-10-03 06:00:00+00:00</td>\n",
       "      <td>2013-10-03 06:00:00+00:00</td>\n",
       "      <td>255.0</td>\n",
       "    </tr>\n",
       "    <tr>\n",
       "      <th>3</th>\n",
       "      <td>45cf200bf4881cb3322eb567ea859d2c81390d8d1fb6c7...</td>\n",
       "      <td>2013-10-03 08:45:00+00:00</td>\n",
       "      <td>2013-10-03 09:15:00+00:00</td>\n",
       "      <td>420.0</td>\n",
       "    </tr>\n",
       "    <tr>\n",
       "      <th>4</th>\n",
       "      <td>46182a244f8a81ba3c58545e7259ffe8ce0ade1911da25...</td>\n",
       "      <td>2013-10-03 10:45:00+00:00</td>\n",
       "      <td>2013-10-03 11:00:00+00:00</td>\n",
       "      <td>240.0</td>\n",
       "    </tr>\n",
       "  </tbody>\n",
       "</table>\n",
       "</div>"
      ],
      "text/plain": [
       "                                             taxi_id  \\\n",
       "0  1deedd2ca018f2b78a3d8cb14905a763b5a77b16097fdb...   \n",
       "1  29b6866f97b4ee801bebc5fc21758f7092c13f43884c58...   \n",
       "2  382c449a49e179aada54d185943d41afc724eae1fca80e...   \n",
       "3  45cf200bf4881cb3322eb567ea859d2c81390d8d1fb6c7...   \n",
       "4  46182a244f8a81ba3c58545e7259ffe8ce0ade1911da25...   \n",
       "\n",
       "       trip_start_timestamp        trip_end_timestamp  prev_break  \n",
       "0 2013-10-03 19:00:00+00:00 2013-10-03 19:15:00+00:00       390.0  \n",
       "1 2013-10-03 18:45:00+00:00 2013-10-03 18:45:00+00:00       480.0  \n",
       "2 2013-10-03 06:00:00+00:00 2013-10-03 06:00:00+00:00       255.0  \n",
       "3 2013-10-03 08:45:00+00:00 2013-10-03 09:15:00+00:00       420.0  \n",
       "4 2013-10-03 10:45:00+00:00 2013-10-03 11:00:00+00:00       240.0  "
      ]
     },
     "metadata": {},
     "output_type": "display_data"
    },
    {
     "data": {
      "application/javascript": [
       "parent.postMessage({\"jupyterEvent\": \"custom.exercise_interaction\", \"data\": {\"outcomeType\": 1, \"valueTowardsCompletion\": 0.3333333333333333, \"interactionType\": 1, \"questionType\": 2, \"questionId\": \"3_BreakTime\", \"learnToolsVersion\": \"0.3.4\", \"failureMessage\": \"\", \"exceptionClass\": \"\", \"trace\": \"\"}}, \"*\")"
      ],
      "text/plain": [
       "<IPython.core.display.Javascript object>"
      ]
     },
     "metadata": {},
     "output_type": "display_data"
    },
    {
     "data": {
      "text/markdown": [
       "<span style=\"color:#33cc33\">Correct</span>"
      ],
      "text/plain": [
       "Correct"
      ]
     },
     "metadata": {},
     "output_type": "display_data"
    }
   ],
   "source": [
    "# Fill in the blanks below\n",
    "break_time_query = \"\"\"\n",
    "                   SELECT taxi_id,\n",
    "                       trip_start_timestamp,\n",
    "                       trip_end_timestamp,\n",
    "                       TIMESTAMP_DIFF(trip_start_timestamp,\n",
    "                                      LAG(trip_end_timestamp, 1) OVER (PARTITION BY taxi_id ORDER BY trip_start_timestamp),\n",
    "                                      MINUTE) AS prev_break\n",
    "                   FROM `bigquery-public-data.chicago_taxi_trips.taxi_trips`\n",
    "                   WHERE DATE(trip_start_timestamp) = '2013-10-03' \n",
    "                   \"\"\"\n",
    "\n",
    "# Check your answer\n",
    "q_3.check()"
   ]
  },
  {
   "cell_type": "code",
   "execution_count": 8,
   "id": "6710b6b3",
   "metadata": {
    "execution": {
     "iopub.execute_input": "2023-12-22T08:58:26.735176Z",
     "iopub.status.busy": "2023-12-22T08:58:26.734840Z",
     "iopub.status.idle": "2023-12-22T08:58:26.738893Z",
     "shell.execute_reply": "2023-12-22T08:58:26.737847Z"
    },
    "papermill": {
     "duration": 0.01245,
     "end_time": "2023-12-22T08:58:26.741180",
     "exception": false,
     "start_time": "2023-12-22T08:58:26.728730",
     "status": "completed"
    },
    "tags": []
   },
   "outputs": [],
   "source": [
    "# Lines below will give you a hint or solution code\n",
    "#q_3.hint()\n",
    "# q_3.solution()"
   ]
  },
  {
   "cell_type": "markdown",
   "id": "e7ec1910",
   "metadata": {
    "papermill": {
     "duration": 0.004893,
     "end_time": "2023-12-22T08:58:26.751689",
     "exception": false,
     "start_time": "2023-12-22T08:58:26.746796",
     "status": "completed"
    },
    "tags": []
   },
   "source": [
    "# Keep going\n",
    "\n",
    "Move on to learn how to query **[nested and repeated data](https://www.kaggle.com/alexisbcook/nested-and-repeated-data)**."
   ]
  },
  {
   "cell_type": "markdown",
   "id": "0d313f50",
   "metadata": {
    "papermill": {
     "duration": 0.004997,
     "end_time": "2023-12-22T08:58:26.762800",
     "exception": false,
     "start_time": "2023-12-22T08:58:26.757803",
     "status": "completed"
    },
    "tags": []
   },
   "source": [
    "---\n",
    "\n",
    "\n",
    "\n",
    "\n",
    "*Have questions or comments? Visit the [course discussion forum](https://www.kaggle.com/learn/advanced-sql/discussion) to chat with other learners.*"
   ]
  }
 ],
 "metadata": {
  "kaggle": {
   "accelerator": "none",
   "dataSources": [
    {
     "datasetId": 22219,
     "sourceId": 28536,
     "sourceType": "datasetVersion"
    }
   ],
   "isGpuEnabled": false,
   "isInternetEnabled": false,
   "language": "python",
   "sourceType": "notebook"
  },
  "kernelspec": {
   "display_name": "Python 3",
   "language": "python",
   "name": "python3"
  },
  "language_info": {
   "codemirror_mode": {
    "name": "ipython",
    "version": 3
   },
   "file_extension": ".py",
   "mimetype": "text/x-python",
   "name": "python",
   "nbconvert_exporter": "python",
   "pygments_lexer": "ipython3",
   "version": "3.10.12"
  },
  "papermill": {
   "default_parameters": {},
   "duration": 85.610884,
   "end_time": "2023-12-22T08:58:27.388085",
   "environment_variables": {},
   "exception": null,
   "input_path": "__notebook__.ipynb",
   "output_path": "__notebook__.ipynb",
   "parameters": {},
   "start_time": "2023-12-22T08:57:01.777201",
   "version": "2.4.0"
  }
 },
 "nbformat": 4,
 "nbformat_minor": 5
}
