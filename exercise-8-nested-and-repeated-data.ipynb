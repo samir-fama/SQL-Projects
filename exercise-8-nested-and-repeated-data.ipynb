{
 "cells": [
  {
   "cell_type": "markdown",
   "id": "2a4ba012",
   "metadata": {
    "papermill": {
     "duration": 0.005682,
     "end_time": "2023-12-22T08:57:24.219936",
     "exception": false,
     "start_time": "2023-12-22T08:57:24.214254",
     "status": "completed"
    },
    "tags": []
   },
   "source": [
    "**This notebook is an exercise in the [Advanced SQL](https://www.kaggle.com/learn/advanced-sql) course.  You can reference the tutorial at [this link](https://www.kaggle.com/alexisbcook/nested-and-repeated-data).**\n",
    "\n",
    "---\n"
   ]
  },
  {
   "cell_type": "markdown",
   "id": "d970ba74",
   "metadata": {
    "papermill": {
     "duration": 0.004784,
     "end_time": "2023-12-22T08:57:24.229988",
     "exception": false,
     "start_time": "2023-12-22T08:57:24.225204",
     "status": "completed"
    },
    "tags": []
   },
   "source": [
    "# Introduction\n",
    "\n",
    "Now that you know how to query nested and repeated data, you're ready to draw interesting insights from the [GitHub Repos](https://www.kaggle.com/github/github-repos) dataset.  \n",
    "\n",
    "Before you get started, run the following cell to set everything up."
   ]
  },
  {
   "cell_type": "code",
   "execution_count": 1,
   "id": "f16c0f45",
   "metadata": {
    "execution": {
     "iopub.execute_input": "2023-12-22T08:57:24.243543Z",
     "iopub.status.busy": "2023-12-22T08:57:24.243204Z",
     "iopub.status.idle": "2023-12-22T08:57:33.878921Z",
     "shell.execute_reply": "2023-12-22T08:57:33.877219Z"
    },
    "papermill": {
     "duration": 9.644844,
     "end_time": "2023-12-22T08:57:33.881119",
     "exception": false,
     "start_time": "2023-12-22T08:57:24.236275",
     "status": "completed"
    },
    "tags": []
   },
   "outputs": [
    {
     "name": "stdout",
     "output_type": "stream",
     "text": [
      "Using Kaggle's public dataset BigQuery integration.\n",
      "Setup Complete\n"
     ]
    }
   ],
   "source": [
    "# Set up feedback system\n",
    "from learntools.core import binder\n",
    "binder.bind(globals())\n",
    "from learntools.sql_advanced.ex3 import *\n",
    "print(\"Setup Complete\")"
   ]
  },
  {
   "cell_type": "markdown",
   "id": "84993ef5",
   "metadata": {
    "papermill": {
     "duration": 0.004946,
     "end_time": "2023-12-22T08:57:33.891694",
     "exception": false,
     "start_time": "2023-12-22T08:57:33.886748",
     "status": "completed"
    },
    "tags": []
   },
   "source": [
    "# Exercises\n",
    "\n",
    "### 1) Who had the most commits in 2016?\n",
    "\n",
    "GitHub is the most popular place to collaborate on software projects. A GitHub **repository** (or repo) is a collection of files associated with a specific project, and a GitHub **commit** is a change that a user has made to a repository.  We refer to the user as a **committer**.\n",
    "\n",
    "The `sample_commits` table contains a small sample of GitHub commits, where each row corresponds to different commit.  The code cell below fetches the table and shows the first five rows of this table."
   ]
  },
  {
   "cell_type": "code",
   "execution_count": 2,
   "id": "64eafd63",
   "metadata": {
    "execution": {
     "iopub.execute_input": "2023-12-22T08:57:33.904481Z",
     "iopub.status.busy": "2023-12-22T08:57:33.903639Z",
     "iopub.status.idle": "2023-12-22T08:57:35.569709Z",
     "shell.execute_reply": "2023-12-22T08:57:35.568018Z"
    },
    "papermill": {
     "duration": 1.674895,
     "end_time": "2023-12-22T08:57:35.571792",
     "exception": false,
     "start_time": "2023-12-22T08:57:33.896897",
     "status": "completed"
    },
    "tags": []
   },
   "outputs": [
    {
     "name": "stdout",
     "output_type": "stream",
     "text": [
      "Using Kaggle's public dataset BigQuery integration.\n"
     ]
    },
    {
     "data": {
      "text/html": [
       "<div>\n",
       "<style scoped>\n",
       "    .dataframe tbody tr th:only-of-type {\n",
       "        vertical-align: middle;\n",
       "    }\n",
       "\n",
       "    .dataframe tbody tr th {\n",
       "        vertical-align: top;\n",
       "    }\n",
       "\n",
       "    .dataframe thead th {\n",
       "        text-align: right;\n",
       "    }\n",
       "</style>\n",
       "<table border=\"1\" class=\"dataframe\">\n",
       "  <thead>\n",
       "    <tr style=\"text-align: right;\">\n",
       "      <th></th>\n",
       "      <th>commit</th>\n",
       "      <th>tree</th>\n",
       "      <th>parent</th>\n",
       "      <th>author</th>\n",
       "      <th>committer</th>\n",
       "      <th>subject</th>\n",
       "      <th>message</th>\n",
       "      <th>trailer</th>\n",
       "      <th>difference</th>\n",
       "      <th>difference_truncated</th>\n",
       "      <th>repo_name</th>\n",
       "      <th>encoding</th>\n",
       "    </tr>\n",
       "  </thead>\n",
       "  <tbody>\n",
       "    <tr>\n",
       "      <th>0</th>\n",
       "      <td>afdba32e2a9ea729a9f9f280dbf6c718773c7ded</td>\n",
       "      <td>d77cca8a096e5320f3194d4a6ca1b4fef2dc9b99</td>\n",
       "      <td>[d65e55d4999b394e37ffe12543ecd2a17b7c44fc]</td>\n",
       "      <td>{'name': 'Jason Gunthorpe', 'email': 'a99b91d7...</td>\n",
       "      <td>{'name': 'Peter Huewe', 'email': '014f16385c5a...</td>\n",
       "      <td>tpm: Pull everything related to /dev/tpmX into...</td>\n",
       "      <td>tpm: Pull everything related to /dev/tpmX into...</td>\n",
       "      <td>[{'key': 'Signed-off-by', 'value': 'Jason Gunt...</td>\n",
       "      <td>[{'old_mode': 33188.0, 'new_mode': 33188, 'old...</td>\n",
       "      <td>None</td>\n",
       "      <td>torvalds/linux</td>\n",
       "      <td>None</td>\n",
       "    </tr>\n",
       "    <tr>\n",
       "      <th>1</th>\n",
       "      <td>eb846d9f147455e4e5e1863bfb5e31974bb69b7c</td>\n",
       "      <td>443efbb146c7824508be817923bab04c2185810e</td>\n",
       "      <td>[3af6b35261182ff185db1f0fd271254147e2663e]</td>\n",
       "      <td>{'name': 'Hannes Reinecke', 'email': 'b0d1e9e4...</td>\n",
       "      <td>{'name': 'Christoph Hellwig', 'email': '923f77...</td>\n",
       "      <td>scsi: rename SERVICE_ACTION_IN to SERVICE_ACTI...</td>\n",
       "      <td>scsi: rename SERVICE_ACTION_IN to SERVICE_ACTI...</td>\n",
       "      <td>[{'key': 'Signed-off-by', 'value': 'Hannes Rei...</td>\n",
       "      <td>[{'old_mode': 33188.0, 'new_mode': 33188, 'old...</td>\n",
       "      <td>None</td>\n",
       "      <td>torvalds/linux</td>\n",
       "      <td>None</td>\n",
       "    </tr>\n",
       "    <tr>\n",
       "      <th>2</th>\n",
       "      <td>f8798ccbefc0e4ef7438c080b7ba0410738c8cfa</td>\n",
       "      <td>9133440693c02314f1f6f95629b3594ce24ad0f8</td>\n",
       "      <td>[261e767628bb5971b9032439818237cc8511ea94]</td>\n",
       "      <td>{'name': 'Yong Zhang', 'email': '34add0fe16a1f...</td>\n",
       "      <td>{'name': 'Florian Tobias Schandinat', 'email':...</td>\n",
       "      <td>video: irq: Remove IRQF_DISABLED</td>\n",
       "      <td>video: irq: Remove IRQF_DISABLED\\n\\nSince comm...</td>\n",
       "      <td>[{'key': 'Signed-off-by', 'value': 'Yong Zhang...</td>\n",
       "      <td>[{'old_mode': 33188.0, 'new_mode': 33188, 'old...</td>\n",
       "      <td>None</td>\n",
       "      <td>torvalds/linux</td>\n",
       "      <td>None</td>\n",
       "    </tr>\n",
       "    <tr>\n",
       "      <th>3</th>\n",
       "      <td>b83ae6d421435c6204150300f1c25bfbd39cd62b</td>\n",
       "      <td>99c6b661ab7de05c2fd49aa62624d2d6bf8abc69</td>\n",
       "      <td>[de1414a654e66b81b5348dbc5259ecf2fb61655e]</td>\n",
       "      <td>{'name': 'Christoph Hellwig', 'email': '923f77...</td>\n",
       "      <td>{'name': 'Jens Axboe', 'email': 'cd8c6775e60d6...</td>\n",
       "      <td>fs: remove mapping-&gt;backing_dev_info</td>\n",
       "      <td>fs: remove mapping-&gt;backing_dev_info\\n\\nNow th...</td>\n",
       "      <td>[{'key': 'Signed-off-by', 'value': 'Christoph ...</td>\n",
       "      <td>[{'old_mode': 33188.0, 'new_mode': 33188, 'old...</td>\n",
       "      <td>None</td>\n",
       "      <td>torvalds/linux</td>\n",
       "      <td>None</td>\n",
       "    </tr>\n",
       "    <tr>\n",
       "      <th>4</th>\n",
       "      <td>aaabee8b7686dfe49f10289cb4b7a817b99e5dd9</td>\n",
       "      <td>7ccc6cf829a93d46daf484164a5466c91eca2efa</td>\n",
       "      <td>[795e9364215dc98b1dea888ebae22383ecbbb92a, 2f2...</td>\n",
       "      <td>{'name': 'Luciano Coelho', 'email': 'd1ef58086...</td>\n",
       "      <td>{'name': 'Luciano Coelho', 'email': 'd1ef58086...</td>\n",
       "      <td>Merge branch 'wl12xx-next' into for-linville</td>\n",
       "      <td>Merge branch 'wl12xx-next' into for-linville\\n...</td>\n",
       "      <td>[{'key': 'Conflicts', 'value': '', 'email': No...</td>\n",
       "      <td>[{'old_mode': 33188.0, 'new_mode': 33188, 'old...</td>\n",
       "      <td>None</td>\n",
       "      <td>torvalds/linux</td>\n",
       "      <td>None</td>\n",
       "    </tr>\n",
       "  </tbody>\n",
       "</table>\n",
       "</div>"
      ],
      "text/plain": [
       "                                     commit  \\\n",
       "0  afdba32e2a9ea729a9f9f280dbf6c718773c7ded   \n",
       "1  eb846d9f147455e4e5e1863bfb5e31974bb69b7c   \n",
       "2  f8798ccbefc0e4ef7438c080b7ba0410738c8cfa   \n",
       "3  b83ae6d421435c6204150300f1c25bfbd39cd62b   \n",
       "4  aaabee8b7686dfe49f10289cb4b7a817b99e5dd9   \n",
       "\n",
       "                                       tree  \\\n",
       "0  d77cca8a096e5320f3194d4a6ca1b4fef2dc9b99   \n",
       "1  443efbb146c7824508be817923bab04c2185810e   \n",
       "2  9133440693c02314f1f6f95629b3594ce24ad0f8   \n",
       "3  99c6b661ab7de05c2fd49aa62624d2d6bf8abc69   \n",
       "4  7ccc6cf829a93d46daf484164a5466c91eca2efa   \n",
       "\n",
       "                                              parent  \\\n",
       "0         [d65e55d4999b394e37ffe12543ecd2a17b7c44fc]   \n",
       "1         [3af6b35261182ff185db1f0fd271254147e2663e]   \n",
       "2         [261e767628bb5971b9032439818237cc8511ea94]   \n",
       "3         [de1414a654e66b81b5348dbc5259ecf2fb61655e]   \n",
       "4  [795e9364215dc98b1dea888ebae22383ecbbb92a, 2f2...   \n",
       "\n",
       "                                              author  \\\n",
       "0  {'name': 'Jason Gunthorpe', 'email': 'a99b91d7...   \n",
       "1  {'name': 'Hannes Reinecke', 'email': 'b0d1e9e4...   \n",
       "2  {'name': 'Yong Zhang', 'email': '34add0fe16a1f...   \n",
       "3  {'name': 'Christoph Hellwig', 'email': '923f77...   \n",
       "4  {'name': 'Luciano Coelho', 'email': 'd1ef58086...   \n",
       "\n",
       "                                           committer  \\\n",
       "0  {'name': 'Peter Huewe', 'email': '014f16385c5a...   \n",
       "1  {'name': 'Christoph Hellwig', 'email': '923f77...   \n",
       "2  {'name': 'Florian Tobias Schandinat', 'email':...   \n",
       "3  {'name': 'Jens Axboe', 'email': 'cd8c6775e60d6...   \n",
       "4  {'name': 'Luciano Coelho', 'email': 'd1ef58086...   \n",
       "\n",
       "                                             subject  \\\n",
       "0  tpm: Pull everything related to /dev/tpmX into...   \n",
       "1  scsi: rename SERVICE_ACTION_IN to SERVICE_ACTI...   \n",
       "2                   video: irq: Remove IRQF_DISABLED   \n",
       "3               fs: remove mapping->backing_dev_info   \n",
       "4       Merge branch 'wl12xx-next' into for-linville   \n",
       "\n",
       "                                             message  \\\n",
       "0  tpm: Pull everything related to /dev/tpmX into...   \n",
       "1  scsi: rename SERVICE_ACTION_IN to SERVICE_ACTI...   \n",
       "2  video: irq: Remove IRQF_DISABLED\\n\\nSince comm...   \n",
       "3  fs: remove mapping->backing_dev_info\\n\\nNow th...   \n",
       "4  Merge branch 'wl12xx-next' into for-linville\\n...   \n",
       "\n",
       "                                             trailer  \\\n",
       "0  [{'key': 'Signed-off-by', 'value': 'Jason Gunt...   \n",
       "1  [{'key': 'Signed-off-by', 'value': 'Hannes Rei...   \n",
       "2  [{'key': 'Signed-off-by', 'value': 'Yong Zhang...   \n",
       "3  [{'key': 'Signed-off-by', 'value': 'Christoph ...   \n",
       "4  [{'key': 'Conflicts', 'value': '', 'email': No...   \n",
       "\n",
       "                                          difference difference_truncated  \\\n",
       "0  [{'old_mode': 33188.0, 'new_mode': 33188, 'old...                 None   \n",
       "1  [{'old_mode': 33188.0, 'new_mode': 33188, 'old...                 None   \n",
       "2  [{'old_mode': 33188.0, 'new_mode': 33188, 'old...                 None   \n",
       "3  [{'old_mode': 33188.0, 'new_mode': 33188, 'old...                 None   \n",
       "4  [{'old_mode': 33188.0, 'new_mode': 33188, 'old...                 None   \n",
       "\n",
       "        repo_name encoding  \n",
       "0  torvalds/linux     None  \n",
       "1  torvalds/linux     None  \n",
       "2  torvalds/linux     None  \n",
       "3  torvalds/linux     None  \n",
       "4  torvalds/linux     None  "
      ]
     },
     "execution_count": 2,
     "metadata": {},
     "output_type": "execute_result"
    }
   ],
   "source": [
    "from google.cloud import bigquery\n",
    "\n",
    "# Create a \"Client\" object\n",
    "client = bigquery.Client()\n",
    "\n",
    "# Construct a reference to the \"github_repos\" dataset\n",
    "dataset_ref = client.dataset(\"github_repos\", project=\"bigquery-public-data\")\n",
    "\n",
    "# API request - fetch the dataset\n",
    "dataset = client.get_dataset(dataset_ref)\n",
    "\n",
    "# Construct a reference to the \"sample_commits\" table\n",
    "table_ref = dataset_ref.table(\"sample_commits\")\n",
    "\n",
    "# API request - fetch the table\n",
    "sample_commits_table = client.get_table(table_ref)\n",
    "\n",
    "# Preview the first five lines of the table\n",
    "client.list_rows(sample_commits_table, max_results=5).to_dataframe()"
   ]
  },
  {
   "cell_type": "markdown",
   "id": "89dfe85e",
   "metadata": {
    "papermill": {
     "duration": 0.005273,
     "end_time": "2023-12-22T08:57:35.582795",
     "exception": false,
     "start_time": "2023-12-22T08:57:35.577522",
     "status": "completed"
    },
    "tags": []
   },
   "source": [
    "Run the next code cell to print the table schema. "
   ]
  },
  {
   "cell_type": "code",
   "execution_count": 3,
   "id": "1fb0be70",
   "metadata": {
    "execution": {
     "iopub.execute_input": "2023-12-22T08:57:35.595635Z",
     "iopub.status.busy": "2023-12-22T08:57:35.595265Z",
     "iopub.status.idle": "2023-12-22T08:57:35.601353Z",
     "shell.execute_reply": "2023-12-22T08:57:35.600391Z"
    },
    "papermill": {
     "duration": 0.015043,
     "end_time": "2023-12-22T08:57:35.603371",
     "exception": false,
     "start_time": "2023-12-22T08:57:35.588328",
     "status": "completed"
    },
    "tags": []
   },
   "outputs": [
    {
     "data": {
      "text/plain": [
       "[SchemaField('commit', 'STRING', 'NULLABLE', None, (), None),\n",
       " SchemaField('tree', 'STRING', 'NULLABLE', None, (), None),\n",
       " SchemaField('parent', 'STRING', 'REPEATED', None, (), None),\n",
       " SchemaField('author', 'RECORD', 'NULLABLE', None, (SchemaField('name', 'STRING', 'NULLABLE', None, (), None), SchemaField('email', 'STRING', 'NULLABLE', None, (), None), SchemaField('time_sec', 'INTEGER', 'NULLABLE', None, (), None), SchemaField('tz_offset', 'INTEGER', 'NULLABLE', None, (), None), SchemaField('date', 'TIMESTAMP', 'NULLABLE', None, (), None)), None),\n",
       " SchemaField('committer', 'RECORD', 'NULLABLE', None, (SchemaField('name', 'STRING', 'NULLABLE', None, (), None), SchemaField('email', 'STRING', 'NULLABLE', None, (), None), SchemaField('time_sec', 'INTEGER', 'NULLABLE', None, (), None), SchemaField('tz_offset', 'INTEGER', 'NULLABLE', None, (), None), SchemaField('date', 'TIMESTAMP', 'NULLABLE', None, (), None)), None),\n",
       " SchemaField('subject', 'STRING', 'NULLABLE', None, (), None),\n",
       " SchemaField('message', 'STRING', 'NULLABLE', None, (), None),\n",
       " SchemaField('trailer', 'RECORD', 'REPEATED', None, (SchemaField('key', 'STRING', 'NULLABLE', None, (), None), SchemaField('value', 'STRING', 'NULLABLE', None, (), None), SchemaField('email', 'STRING', 'NULLABLE', None, (), None)), None),\n",
       " SchemaField('difference', 'RECORD', 'REPEATED', None, (SchemaField('old_mode', 'INTEGER', 'NULLABLE', None, (), None), SchemaField('new_mode', 'INTEGER', 'NULLABLE', None, (), None), SchemaField('old_path', 'STRING', 'NULLABLE', None, (), None), SchemaField('new_path', 'STRING', 'NULLABLE', None, (), None), SchemaField('old_sha1', 'STRING', 'NULLABLE', None, (), None), SchemaField('new_sha1', 'STRING', 'NULLABLE', None, (), None), SchemaField('old_repo', 'STRING', 'NULLABLE', None, (), None), SchemaField('new_repo', 'STRING', 'NULLABLE', None, (), None)), None),\n",
       " SchemaField('difference_truncated', 'BOOLEAN', 'NULLABLE', None, (), None),\n",
       " SchemaField('repo_name', 'STRING', 'NULLABLE', None, (), None),\n",
       " SchemaField('encoding', 'STRING', 'NULLABLE', None, (), None)]"
      ]
     },
     "execution_count": 3,
     "metadata": {},
     "output_type": "execute_result"
    }
   ],
   "source": [
    "# Print information on all the columns in the table\n",
    "sample_commits_table.schema"
   ]
  },
  {
   "cell_type": "markdown",
   "id": "5b4369d0",
   "metadata": {
    "papermill": {
     "duration": 0.005568,
     "end_time": "2023-12-22T08:57:35.614881",
     "exception": false,
     "start_time": "2023-12-22T08:57:35.609313",
     "status": "completed"
    },
    "tags": []
   },
   "source": [
    "Write a query to find the individuals with the most commits in this table in 2016.  Your query should return a table with two columns:\n",
    "- `committer_name` - contains the name of each individual with a commit (from 2016) in the table\n",
    "- `num_commits` - shows the number of commits the individual has in the table (from 2016)\n",
    "\n",
    "Sort the table, so that people with more commits appear first.\n",
    "\n",
    "**NOTE**: You can find the name of each committer and the date of the commit under the \"committer\" column, in the \"name\" and \"date\" child fields, respectively."
   ]
  },
  {
   "cell_type": "code",
   "execution_count": 4,
   "id": "546887d4",
   "metadata": {
    "execution": {
     "iopub.execute_input": "2023-12-22T08:57:35.628196Z",
     "iopub.status.busy": "2023-12-22T08:57:35.627596Z",
     "iopub.status.idle": "2023-12-22T08:57:37.528054Z",
     "shell.execute_reply": "2023-12-22T08:57:37.526181Z"
    },
    "papermill": {
     "duration": 1.90991,
     "end_time": "2023-12-22T08:57:37.530445",
     "exception": false,
     "start_time": "2023-12-22T08:57:35.620535",
     "status": "completed"
    },
    "tags": []
   },
   "outputs": [
    {
     "data": {
      "text/html": [
       "<div>\n",
       "<style scoped>\n",
       "    .dataframe tbody tr th:only-of-type {\n",
       "        vertical-align: middle;\n",
       "    }\n",
       "\n",
       "    .dataframe tbody tr th {\n",
       "        vertical-align: top;\n",
       "    }\n",
       "\n",
       "    .dataframe thead th {\n",
       "        text-align: right;\n",
       "    }\n",
       "</style>\n",
       "<table border=\"1\" class=\"dataframe\">\n",
       "  <thead>\n",
       "    <tr style=\"text-align: right;\">\n",
       "      <th></th>\n",
       "      <th>num_commits</th>\n",
       "      <th>committer_name</th>\n",
       "    </tr>\n",
       "  </thead>\n",
       "  <tbody>\n",
       "    <tr>\n",
       "      <th>0</th>\n",
       "      <td>3545</td>\n",
       "      <td>Greg Kroah-Hartman</td>\n",
       "    </tr>\n",
       "    <tr>\n",
       "      <th>1</th>\n",
       "      <td>3120</td>\n",
       "      <td>David S. Miller</td>\n",
       "    </tr>\n",
       "    <tr>\n",
       "      <th>2</th>\n",
       "      <td>2449</td>\n",
       "      <td>TensorFlower Gardener</td>\n",
       "    </tr>\n",
       "    <tr>\n",
       "      <th>3</th>\n",
       "      <td>2424</td>\n",
       "      <td>Linus Torvalds</td>\n",
       "    </tr>\n",
       "    <tr>\n",
       "      <th>4</th>\n",
       "      <td>1127</td>\n",
       "      <td>Benjamin Pasero</td>\n",
       "    </tr>\n",
       "  </tbody>\n",
       "</table>\n",
       "</div>"
      ],
      "text/plain": [
       "   num_commits         committer_name\n",
       "0         3545     Greg Kroah-Hartman\n",
       "1         3120        David S. Miller\n",
       "2         2449  TensorFlower Gardener\n",
       "3         2424         Linus Torvalds\n",
       "4         1127        Benjamin Pasero"
      ]
     },
     "metadata": {},
     "output_type": "display_data"
    },
    {
     "data": {
      "application/javascript": [
       "parent.postMessage({\"jupyterEvent\": \"custom.exercise_interaction\", \"data\": {\"outcomeType\": 1, \"valueTowardsCompletion\": 0.25, \"interactionType\": 1, \"questionType\": 2, \"questionId\": \"1_MaxCommits\", \"learnToolsVersion\": \"0.3.4\", \"failureMessage\": \"\", \"exceptionClass\": \"\", \"trace\": \"\"}}, \"*\")"
      ],
      "text/plain": [
       "<IPython.core.display.Javascript object>"
      ]
     },
     "metadata": {},
     "output_type": "display_data"
    },
    {
     "data": {
      "text/markdown": [
       "<span style=\"color:#33cc33\">Correct</span>"
      ],
      "text/plain": [
       "Correct"
      ]
     },
     "metadata": {},
     "output_type": "display_data"
    }
   ],
   "source": [
    "# Write a query to find the answer\n",
    "max_commits_query = \"\"\"\n",
    "                    SELECT COUNT(commit) AS num_commits, committer.name AS committer_name \n",
    "                    FROM `bigquery-public-data.github_repos.sample_commits`\n",
    "                    WHERE committer.date >= '2016-01-01' AND committer.date < '2017-01-01'\n",
    "                    GROUP BY committer_name\n",
    "                    ORDER BY num_commits DESC\n",
    "                    \"\"\"\n",
    "\n",
    "# Check your answer\n",
    "q_1.check()"
   ]
  },
  {
   "cell_type": "code",
   "execution_count": 5,
   "id": "80022242",
   "metadata": {
    "execution": {
     "iopub.execute_input": "2023-12-22T08:57:37.546198Z",
     "iopub.status.busy": "2023-12-22T08:57:37.545757Z",
     "iopub.status.idle": "2023-12-22T08:57:37.551939Z",
     "shell.execute_reply": "2023-12-22T08:57:37.550457Z"
    },
    "papermill": {
     "duration": 0.018105,
     "end_time": "2023-12-22T08:57:37.554929",
     "exception": false,
     "start_time": "2023-12-22T08:57:37.536824",
     "status": "completed"
    },
    "tags": []
   },
   "outputs": [],
   "source": [
    "# Lines below will give you a hint or solution code\n",
    "#q_1.hint()\n",
    "# q_1.solution()"
   ]
  },
  {
   "cell_type": "markdown",
   "id": "21bb01ab",
   "metadata": {
    "papermill": {
     "duration": 0.005712,
     "end_time": "2023-12-22T08:57:37.567089",
     "exception": false,
     "start_time": "2023-12-22T08:57:37.561377",
     "status": "completed"
    },
    "tags": []
   },
   "source": [
    "### 2) Look at languages!\n",
    "\n",
    "Now you will work with the `languages` table.  Run the code cell below to print the first few rows."
   ]
  },
  {
   "cell_type": "code",
   "execution_count": 6,
   "id": "c19dd963",
   "metadata": {
    "execution": {
     "iopub.execute_input": "2023-12-22T08:57:37.581300Z",
     "iopub.status.busy": "2023-12-22T08:57:37.580911Z",
     "iopub.status.idle": "2023-12-22T08:57:38.679619Z",
     "shell.execute_reply": "2023-12-22T08:57:38.678693Z"
    },
    "papermill": {
     "duration": 1.107997,
     "end_time": "2023-12-22T08:57:38.681329",
     "exception": false,
     "start_time": "2023-12-22T08:57:37.573332",
     "status": "completed"
    },
    "tags": []
   },
   "outputs": [
    {
     "data": {
      "text/html": [
       "<div>\n",
       "<style scoped>\n",
       "    .dataframe tbody tr th:only-of-type {\n",
       "        vertical-align: middle;\n",
       "    }\n",
       "\n",
       "    .dataframe tbody tr th {\n",
       "        vertical-align: top;\n",
       "    }\n",
       "\n",
       "    .dataframe thead th {\n",
       "        text-align: right;\n",
       "    }\n",
       "</style>\n",
       "<table border=\"1\" class=\"dataframe\">\n",
       "  <thead>\n",
       "    <tr style=\"text-align: right;\">\n",
       "      <th></th>\n",
       "      <th>repo_name</th>\n",
       "      <th>language</th>\n",
       "    </tr>\n",
       "  </thead>\n",
       "  <tbody>\n",
       "    <tr>\n",
       "      <th>0</th>\n",
       "      <td>lemi136/puntovent</td>\n",
       "      <td>[{'name': 'C', 'bytes': 80}]</td>\n",
       "    </tr>\n",
       "    <tr>\n",
       "      <th>1</th>\n",
       "      <td>taxigps/nctool</td>\n",
       "      <td>[{'name': 'C', 'bytes': 4461}]</td>\n",
       "    </tr>\n",
       "    <tr>\n",
       "      <th>2</th>\n",
       "      <td>ahy1/strbuf</td>\n",
       "      <td>[{'name': 'C', 'bytes': 5573}]</td>\n",
       "    </tr>\n",
       "    <tr>\n",
       "      <th>3</th>\n",
       "      <td>nleiten/mod_rpaf-ng</td>\n",
       "      <td>[{'name': 'C', 'bytes': 30330}]</td>\n",
       "    </tr>\n",
       "    <tr>\n",
       "      <th>4</th>\n",
       "      <td>kmcallister/alameda</td>\n",
       "      <td>[{'name': 'C', 'bytes': 17077}]</td>\n",
       "    </tr>\n",
       "  </tbody>\n",
       "</table>\n",
       "</div>"
      ],
      "text/plain": [
       "             repo_name                         language\n",
       "0    lemi136/puntovent     [{'name': 'C', 'bytes': 80}]\n",
       "1       taxigps/nctool   [{'name': 'C', 'bytes': 4461}]\n",
       "2          ahy1/strbuf   [{'name': 'C', 'bytes': 5573}]\n",
       "3  nleiten/mod_rpaf-ng  [{'name': 'C', 'bytes': 30330}]\n",
       "4  kmcallister/alameda  [{'name': 'C', 'bytes': 17077}]"
      ]
     },
     "execution_count": 6,
     "metadata": {},
     "output_type": "execute_result"
    }
   ],
   "source": [
    "# Construct a reference to the \"languages\" table\n",
    "table_ref = dataset_ref.table(\"languages\")\n",
    "\n",
    "# API request - fetch the table\n",
    "languages_table = client.get_table(table_ref)\n",
    "\n",
    "# Preview the first five lines of the table\n",
    "client.list_rows(languages_table, max_results=5).to_dataframe()"
   ]
  },
  {
   "cell_type": "markdown",
   "id": "77b0ea5e",
   "metadata": {
    "papermill": {
     "duration": 0.006122,
     "end_time": "2023-12-22T08:57:38.693946",
     "exception": false,
     "start_time": "2023-12-22T08:57:38.687824",
     "status": "completed"
    },
    "tags": []
   },
   "source": [
    "Each row of the `languages` table corresponds to a different repository.  \n",
    "- The \"repo_name\" column contains the name of the repository,\n",
    "- the \"name\" field in the \"language\" column contains the programming languages that can be found in the repo, and \n",
    "- the \"bytes\" field in the \"language\" column has the size of the files (in bytes, for the corresponding language).\n",
    "\n",
    "Run the following code cell to print the table schema."
   ]
  },
  {
   "cell_type": "code",
   "execution_count": 7,
   "id": "eb6d6ced",
   "metadata": {
    "execution": {
     "iopub.execute_input": "2023-12-22T08:57:38.708329Z",
     "iopub.status.busy": "2023-12-22T08:57:38.707967Z",
     "iopub.status.idle": "2023-12-22T08:57:38.713011Z",
     "shell.execute_reply": "2023-12-22T08:57:38.712285Z"
    },
    "papermill": {
     "duration": 0.014125,
     "end_time": "2023-12-22T08:57:38.714561",
     "exception": false,
     "start_time": "2023-12-22T08:57:38.700436",
     "status": "completed"
    },
    "tags": []
   },
   "outputs": [
    {
     "data": {
      "text/plain": [
       "[SchemaField('repo_name', 'STRING', 'NULLABLE', None, (), None),\n",
       " SchemaField('language', 'RECORD', 'REPEATED', None, (SchemaField('name', 'STRING', 'NULLABLE', None, (), None), SchemaField('bytes', 'INTEGER', 'NULLABLE', None, (), None)), None)]"
      ]
     },
     "execution_count": 7,
     "metadata": {},
     "output_type": "execute_result"
    }
   ],
   "source": [
    "# Print information on all the columns in the table\n",
    "languages_table.schema"
   ]
  },
  {
   "cell_type": "markdown",
   "id": "5266e4be",
   "metadata": {
    "papermill": {
     "duration": 0.005993,
     "end_time": "2023-12-22T08:57:38.727044",
     "exception": false,
     "start_time": "2023-12-22T08:57:38.721051",
     "status": "completed"
    },
    "tags": []
   },
   "source": [
    "Assume for the moment that you have access to a table called `sample_languages` that contains only a very small subset of the rows from the `languages` table: in fact, it contains only three rows!  This table is depicted in the image below.\n",
    "\n",
    "![](https://storage.googleapis.com/kaggle-media/learn/images/qAb5lZ2.png)\n",
    "\n",
    "How many rows are in the table returned by the query below?\n",
    "\n",
    "![](https://storage.googleapis.com/kaggle-media/learn/images/Q5qYAtz.png)\n",
    "\n",
    "Fill in your answer in the next code cell."
   ]
  },
  {
   "cell_type": "code",
   "execution_count": 8,
   "id": "d2ade304",
   "metadata": {
    "execution": {
     "iopub.execute_input": "2023-12-22T08:57:38.741872Z",
     "iopub.status.busy": "2023-12-22T08:57:38.741288Z",
     "iopub.status.idle": "2023-12-22T08:57:38.748578Z",
     "shell.execute_reply": "2023-12-22T08:57:38.747179Z"
    },
    "papermill": {
     "duration": 0.016856,
     "end_time": "2023-12-22T08:57:38.750552",
     "exception": false,
     "start_time": "2023-12-22T08:57:38.733696",
     "status": "completed"
    },
    "tags": []
   },
   "outputs": [
    {
     "data": {
      "application/javascript": [
       "parent.postMessage({\"jupyterEvent\": \"custom.exercise_interaction\", \"data\": {\"outcomeType\": 1, \"valueTowardsCompletion\": 0.25, \"interactionType\": 1, \"questionType\": 1, \"questionId\": \"2_LookLang\", \"learnToolsVersion\": \"0.3.4\", \"failureMessage\": \"\", \"exceptionClass\": \"\", \"trace\": \"\"}}, \"*\")"
      ],
      "text/plain": [
       "<IPython.core.display.Javascript object>"
      ]
     },
     "metadata": {},
     "output_type": "display_data"
    },
    {
     "data": {
      "text/markdown": [
       "<span style=\"color:#33cc33\">Correct</span>"
      ],
      "text/plain": [
       "Correct"
      ]
     },
     "metadata": {},
     "output_type": "display_data"
    }
   ],
   "source": [
    "# Fill in the blank\n",
    "num_rows = 6\n",
    "\n",
    "# Check your answer\n",
    "q_2.check()"
   ]
  },
  {
   "cell_type": "code",
   "execution_count": 9,
   "id": "e9fc2895",
   "metadata": {
    "execution": {
     "iopub.execute_input": "2023-12-22T08:57:38.766016Z",
     "iopub.status.busy": "2023-12-22T08:57:38.765495Z",
     "iopub.status.idle": "2023-12-22T08:57:38.768703Z",
     "shell.execute_reply": "2023-12-22T08:57:38.768016Z"
    },
    "papermill": {
     "duration": 0.01339,
     "end_time": "2023-12-22T08:57:38.770813",
     "exception": false,
     "start_time": "2023-12-22T08:57:38.757423",
     "status": "completed"
    },
    "tags": []
   },
   "outputs": [],
   "source": [
    "# Lines below will give you a hint or solution code\n",
    "#q_2.hint()\n",
    "# q_2.solution()"
   ]
  },
  {
   "cell_type": "markdown",
   "id": "e47e7c89",
   "metadata": {
    "papermill": {
     "duration": 0.006193,
     "end_time": "2023-12-22T08:57:38.783942",
     "exception": false,
     "start_time": "2023-12-22T08:57:38.777749",
     "status": "completed"
    },
    "tags": []
   },
   "source": [
    "### 3) What's the most popular programming language?\n",
    "\n",
    "Write a query to leverage the information in the `languages` table to determine which programming languages appear in the most repositories.  The table returned by your query should have two columns:\n",
    "- `language_name` - the name of the programming language\n",
    "- `num_repos` - the number of repositories in the `languages` table that use the programming language\n",
    "\n",
    "Sort the table so that languages that appear in more repos are shown first."
   ]
  },
  {
   "cell_type": "code",
   "execution_count": 10,
   "id": "83b06a96",
   "metadata": {
    "execution": {
     "iopub.execute_input": "2023-12-22T08:57:38.799674Z",
     "iopub.status.busy": "2023-12-22T08:57:38.799149Z",
     "iopub.status.idle": "2023-12-22T08:57:40.615214Z",
     "shell.execute_reply": "2023-12-22T08:57:40.613446Z"
    },
    "papermill": {
     "duration": 1.827567,
     "end_time": "2023-12-22T08:57:40.618083",
     "exception": false,
     "start_time": "2023-12-22T08:57:38.790516",
     "status": "completed"
    },
    "tags": []
   },
   "outputs": [
    {
     "name": "stdout",
     "output_type": "stream",
     "text": [
      "Using Kaggle's public dataset BigQuery integration.\n"
     ]
    },
    {
     "data": {
      "text/html": [
       "<div>\n",
       "<style scoped>\n",
       "    .dataframe tbody tr th:only-of-type {\n",
       "        vertical-align: middle;\n",
       "    }\n",
       "\n",
       "    .dataframe tbody tr th {\n",
       "        vertical-align: top;\n",
       "    }\n",
       "\n",
       "    .dataframe thead th {\n",
       "        text-align: right;\n",
       "    }\n",
       "</style>\n",
       "<table border=\"1\" class=\"dataframe\">\n",
       "  <thead>\n",
       "    <tr style=\"text-align: right;\">\n",
       "      <th></th>\n",
       "      <th>repo_name</th>\n",
       "      <th>language</th>\n",
       "    </tr>\n",
       "  </thead>\n",
       "  <tbody>\n",
       "    <tr>\n",
       "      <th>0</th>\n",
       "      <td>lemi136/puntovent</td>\n",
       "      <td>[{'name': 'C', 'bytes': 80}]</td>\n",
       "    </tr>\n",
       "    <tr>\n",
       "      <th>1</th>\n",
       "      <td>taxigps/nctool</td>\n",
       "      <td>[{'name': 'C', 'bytes': 4461}]</td>\n",
       "    </tr>\n",
       "    <tr>\n",
       "      <th>2</th>\n",
       "      <td>ahy1/strbuf</td>\n",
       "      <td>[{'name': 'C', 'bytes': 5573}]</td>\n",
       "    </tr>\n",
       "    <tr>\n",
       "      <th>3</th>\n",
       "      <td>nleiten/mod_rpaf-ng</td>\n",
       "      <td>[{'name': 'C', 'bytes': 30330}]</td>\n",
       "    </tr>\n",
       "    <tr>\n",
       "      <th>4</th>\n",
       "      <td>kmcallister/alameda</td>\n",
       "      <td>[{'name': 'C', 'bytes': 17077}]</td>\n",
       "    </tr>\n",
       "  </tbody>\n",
       "</table>\n",
       "</div>"
      ],
      "text/plain": [
       "             repo_name                         language\n",
       "0    lemi136/puntovent     [{'name': 'C', 'bytes': 80}]\n",
       "1       taxigps/nctool   [{'name': 'C', 'bytes': 4461}]\n",
       "2          ahy1/strbuf   [{'name': 'C', 'bytes': 5573}]\n",
       "3  nleiten/mod_rpaf-ng  [{'name': 'C', 'bytes': 30330}]\n",
       "4  kmcallister/alameda  [{'name': 'C', 'bytes': 17077}]"
      ]
     },
     "execution_count": 10,
     "metadata": {},
     "output_type": "execute_result"
    }
   ],
   "source": [
    "from google.cloud import bigquery\n",
    "\n",
    "# Create a \"Client\" object\n",
    "client = bigquery.Client()\n",
    "\n",
    "# Construct a reference to the \"github_repos\" dataset\n",
    "dataset_ref = client.dataset(\"github_repos\", project=\"bigquery-public-data\")\n",
    "\n",
    "# API request - fetch the dataset\n",
    "dataset = client.get_dataset(dataset_ref)\n",
    "\n",
    "# Construct a reference to the \"sample_commits\" table\n",
    "table_ref = dataset_ref.table(\"languages\")\n",
    "\n",
    "# API request - fetch the table\n",
    "sample_commits_table = client.get_table(table_ref)\n",
    "\n",
    "# Preview the first five lines of the table\n",
    "client.list_rows(sample_commits_table, max_results=5).to_dataframe()"
   ]
  },
  {
   "cell_type": "code",
   "execution_count": 11,
   "id": "ebdd501e",
   "metadata": {
    "execution": {
     "iopub.execute_input": "2023-12-22T08:57:40.635642Z",
     "iopub.status.busy": "2023-12-22T08:57:40.635278Z",
     "iopub.status.idle": "2023-12-22T08:57:40.643845Z",
     "shell.execute_reply": "2023-12-22T08:57:40.641950Z"
    },
    "papermill": {
     "duration": 0.021246,
     "end_time": "2023-12-22T08:57:40.647138",
     "exception": false,
     "start_time": "2023-12-22T08:57:40.625892",
     "status": "completed"
    },
    "tags": []
   },
   "outputs": [
    {
     "data": {
      "text/plain": [
       "[SchemaField('repo_name', 'STRING', 'NULLABLE', None, (), None),\n",
       " SchemaField('language', 'RECORD', 'REPEATED', None, (SchemaField('name', 'STRING', 'NULLABLE', None, (), None), SchemaField('bytes', 'INTEGER', 'NULLABLE', None, (), None)), None)]"
      ]
     },
     "execution_count": 11,
     "metadata": {},
     "output_type": "execute_result"
    }
   ],
   "source": [
    "sample_commits_table.schema"
   ]
  },
  {
   "cell_type": "code",
   "execution_count": 12,
   "id": "03c0cac5",
   "metadata": {
    "execution": {
     "iopub.execute_input": "2023-12-22T08:57:40.664802Z",
     "iopub.status.busy": "2023-12-22T08:57:40.664455Z",
     "iopub.status.idle": "2023-12-22T08:57:43.174817Z",
     "shell.execute_reply": "2023-12-22T08:57:43.173947Z"
    },
    "papermill": {
     "duration": 2.521826,
     "end_time": "2023-12-22T08:57:43.176605",
     "exception": false,
     "start_time": "2023-12-22T08:57:40.654779",
     "status": "completed"
    },
    "tags": []
   },
   "outputs": [
    {
     "data": {
      "text/html": [
       "<div>\n",
       "<style scoped>\n",
       "    .dataframe tbody tr th:only-of-type {\n",
       "        vertical-align: middle;\n",
       "    }\n",
       "\n",
       "    .dataframe tbody tr th {\n",
       "        vertical-align: top;\n",
       "    }\n",
       "\n",
       "    .dataframe thead th {\n",
       "        text-align: right;\n",
       "    }\n",
       "</style>\n",
       "<table border=\"1\" class=\"dataframe\">\n",
       "  <thead>\n",
       "    <tr style=\"text-align: right;\">\n",
       "      <th></th>\n",
       "      <th>language_name</th>\n",
       "      <th>num_repos</th>\n",
       "    </tr>\n",
       "  </thead>\n",
       "  <tbody>\n",
       "    <tr>\n",
       "      <th>0</th>\n",
       "      <td>JavaScript</td>\n",
       "      <td>1099966</td>\n",
       "    </tr>\n",
       "    <tr>\n",
       "      <th>1</th>\n",
       "      <td>CSS</td>\n",
       "      <td>807826</td>\n",
       "    </tr>\n",
       "    <tr>\n",
       "      <th>2</th>\n",
       "      <td>HTML</td>\n",
       "      <td>777433</td>\n",
       "    </tr>\n",
       "    <tr>\n",
       "      <th>3</th>\n",
       "      <td>Shell</td>\n",
       "      <td>640886</td>\n",
       "    </tr>\n",
       "    <tr>\n",
       "      <th>4</th>\n",
       "      <td>Python</td>\n",
       "      <td>550905</td>\n",
       "    </tr>\n",
       "  </tbody>\n",
       "</table>\n",
       "</div>"
      ],
      "text/plain": [
       "  language_name  num_repos\n",
       "0    JavaScript    1099966\n",
       "1           CSS     807826\n",
       "2          HTML     777433\n",
       "3         Shell     640886\n",
       "4        Python     550905"
      ]
     },
     "metadata": {},
     "output_type": "display_data"
    },
    {
     "data": {
      "application/javascript": [
       "parent.postMessage({\"jupyterEvent\": \"custom.exercise_interaction\", \"data\": {\"outcomeType\": 1, \"valueTowardsCompletion\": 0.25, \"interactionType\": 1, \"questionType\": 2, \"questionId\": \"3_PopLang\", \"learnToolsVersion\": \"0.3.4\", \"failureMessage\": \"\", \"exceptionClass\": \"\", \"trace\": \"\"}}, \"*\")"
      ],
      "text/plain": [
       "<IPython.core.display.Javascript object>"
      ]
     },
     "metadata": {},
     "output_type": "display_data"
    },
    {
     "data": {
      "text/markdown": [
       "<span style=\"color:#33cc33\">Correct</span>"
      ],
      "text/plain": [
       "Correct"
      ]
     },
     "metadata": {},
     "output_type": "display_data"
    }
   ],
   "source": [
    "# Write a query to find the answer\n",
    "pop_lang_query = \"\"\"\n",
    "                 SELECT language.name AS language_name, COUNT(repo_name) AS num_repos\n",
    "                 FROM `bigquery-public-data.github_repos.languages`,\n",
    "                     UNNEST(language) AS language\n",
    "                 GROUP BY language_name\n",
    "                 ORDER BY num_repos DESC\n",
    "                 \"\"\"\n",
    "\n",
    "# Check your answer\n",
    "q_3.check()"
   ]
  },
  {
   "cell_type": "code",
   "execution_count": 13,
   "id": "c42b7166",
   "metadata": {
    "execution": {
     "iopub.execute_input": "2023-12-22T08:57:43.193205Z",
     "iopub.status.busy": "2023-12-22T08:57:43.192830Z",
     "iopub.status.idle": "2023-12-22T08:57:43.197157Z",
     "shell.execute_reply": "2023-12-22T08:57:43.196176Z"
    },
    "papermill": {
     "duration": 0.015471,
     "end_time": "2023-12-22T08:57:43.199680",
     "exception": false,
     "start_time": "2023-12-22T08:57:43.184209",
     "status": "completed"
    },
    "tags": []
   },
   "outputs": [],
   "source": [
    "# Lines below will give you a hint or solution code\n",
    "#q_3.hint()\n",
    "# q_3.solution()"
   ]
  },
  {
   "cell_type": "markdown",
   "id": "98d3e40d",
   "metadata": {
    "papermill": {
     "duration": 0.007159,
     "end_time": "2023-12-22T08:57:43.214470",
     "exception": false,
     "start_time": "2023-12-22T08:57:43.207311",
     "status": "completed"
    },
    "tags": []
   },
   "source": [
    "### 4) Which languages are used in the repository with the most languages?\n",
    "\n",
    "For this question, you'll restrict your attention to the repository with name `'polyrabbit/polyglot'`.\n",
    "\n",
    "Write a query that returns a table with one row for each language in this repository.  The table should have two columns:\n",
    "- `name` - the name of the programming language\n",
    "- `bytes` - the total number of bytes of that programming language\n",
    "\n",
    "Sort the table by the `bytes` column so that programming languages that take up more space in the repo appear first."
   ]
  },
  {
   "cell_type": "code",
   "execution_count": 14,
   "id": "49657275",
   "metadata": {
    "execution": {
     "iopub.execute_input": "2023-12-22T08:57:43.231073Z",
     "iopub.status.busy": "2023-12-22T08:57:43.230717Z",
     "iopub.status.idle": "2023-12-22T08:57:43.824373Z",
     "shell.execute_reply": "2023-12-22T08:57:43.823044Z"
    },
    "papermill": {
     "duration": 0.604413,
     "end_time": "2023-12-22T08:57:43.826352",
     "exception": false,
     "start_time": "2023-12-22T08:57:43.221939",
     "status": "completed"
    },
    "tags": []
   },
   "outputs": [
    {
     "data": {
      "application/javascript": [
       "parent.postMessage({\"jupyterEvent\": \"custom.exercise_interaction\", \"data\": {\"outcomeType\": 2, \"failureMessage\": \"You don't have a valid query yet.  Try again.\", \"interactionType\": 1, \"questionType\": 2, \"questionId\": \"4_AllLangs\", \"learnToolsVersion\": \"0.3.4\", \"valueTowardsCompletion\": 0.0, \"exceptionClass\": \"\", \"trace\": \"\"}}, \"*\")"
      ],
      "text/plain": [
       "<IPython.core.display.Javascript object>"
      ]
     },
     "metadata": {},
     "output_type": "display_data"
    },
    {
     "data": {
      "text/markdown": [
       "<span style=\"color:#cc3333\">Incorrect:</span> You don't have a valid query yet.  Try again."
      ],
      "text/plain": [
       "Incorrect: You don't have a valid query yet.  Try again."
      ]
     },
     "metadata": {},
     "output_type": "display_data"
    }
   ],
   "source": [
    "# Your code here\n",
    "all_langs_query = \"\"\"\n",
    "                  SELECT L.name, L.bytes\n",
    "                  FROM `bigquery-public-data.github_repos.languages`,\n",
    "                      UNNEST(language) AS L\n",
    "                  WHERE repo_name = 'polyrabbit/polyglot'\n",
    "                  ORDER BY language.bytes DESC\n",
    "                  \"\"\"\n",
    "\n",
    "# Check your answer\n",
    "q_4.check()"
   ]
  },
  {
   "cell_type": "code",
   "execution_count": 15,
   "id": "b2dc92d9",
   "metadata": {
    "execution": {
     "iopub.execute_input": "2023-12-22T08:57:43.843699Z",
     "iopub.status.busy": "2023-12-22T08:57:43.843352Z",
     "iopub.status.idle": "2023-12-22T08:57:43.851276Z",
     "shell.execute_reply": "2023-12-22T08:57:43.850343Z"
    },
    "papermill": {
     "duration": 0.018387,
     "end_time": "2023-12-22T08:57:43.852961",
     "exception": false,
     "start_time": "2023-12-22T08:57:43.834574",
     "status": "completed"
    },
    "tags": []
   },
   "outputs": [
    {
     "data": {
      "application/javascript": [
       "parent.postMessage({\"jupyterEvent\": \"custom.exercise_interaction\", \"data\": {\"interactionType\": 3, \"questionType\": 2, \"questionId\": \"4_AllLangs\", \"learnToolsVersion\": \"0.3.4\", \"valueTowardsCompletion\": 0.0, \"failureMessage\": \"\", \"exceptionClass\": \"\", \"trace\": \"\", \"outcomeType\": 4}}, \"*\")"
      ],
      "text/plain": [
       "<IPython.core.display.Javascript object>"
      ]
     },
     "metadata": {},
     "output_type": "display_data"
    },
    {
     "data": {
      "text/markdown": [
       "<span style=\"color:#33cc99\">Solution:</span> \n",
       "```python\n",
       "\n",
       "all_langs_query = \"\"\"\n",
       "                  SELECT l.name, l.bytes\n",
       "                  FROM `bigquery-public-data.github_repos.languages`,\n",
       "                      UNNEST(language) as l\n",
       "                  WHERE repo_name = 'polyrabbit/polyglot'\n",
       "                  ORDER BY l.bytes DESC\n",
       "                  \"\"\"\n",
       "\n",
       "```"
      ],
      "text/plain": [
       "Solution: \n",
       "```python\n",
       "\n",
       "all_langs_query = \"\"\"\n",
       "                  SELECT l.name, l.bytes\n",
       "                  FROM `bigquery-public-data.github_repos.languages`,\n",
       "                      UNNEST(language) as l\n",
       "                  WHERE repo_name = 'polyrabbit/polyglot'\n",
       "                  ORDER BY l.bytes DESC\n",
       "                  \"\"\"\n",
       "\n",
       "```"
      ]
     },
     "metadata": {},
     "output_type": "display_data"
    }
   ],
   "source": [
    "# Lines below will give you a hint or solution code\n",
    "#q_4.hint()\n",
    "q_4.solution()"
   ]
  },
  {
   "cell_type": "markdown",
   "id": "e7c08d21",
   "metadata": {
    "papermill": {
     "duration": 0.007461,
     "end_time": "2023-12-22T08:57:43.868621",
     "exception": false,
     "start_time": "2023-12-22T08:57:43.861160",
     "status": "completed"
    },
    "tags": []
   },
   "source": [
    "# Keep going\n",
    "\n",
    "Learn how to make your queries **[more efficient](https://www.kaggle.com/alexisbcook/writing-efficient-queries)**."
   ]
  },
  {
   "cell_type": "markdown",
   "id": "108278a6",
   "metadata": {
    "papermill": {
     "duration": 0.007491,
     "end_time": "2023-12-22T08:57:43.883911",
     "exception": false,
     "start_time": "2023-12-22T08:57:43.876420",
     "status": "completed"
    },
    "tags": []
   },
   "source": [
    "---\n",
    "\n",
    "\n",
    "\n",
    "\n",
    "*Have questions or comments? Visit the [course discussion forum](https://www.kaggle.com/learn/advanced-sql/discussion) to chat with other learners.*"
   ]
  }
 ],
 "metadata": {
  "kaggle": {
   "accelerator": "none",
   "dataSources": [
    {
     "datasetId": 6178,
     "sourceId": 337545,
     "sourceType": "datasetVersion"
    }
   ],
   "isGpuEnabled": false,
   "isInternetEnabled": false,
   "language": "python",
   "sourceType": "notebook"
  },
  "kernelspec": {
   "display_name": "Python 3",
   "language": "python",
   "name": "python3"
  },
  "language_info": {
   "codemirror_mode": {
    "name": "ipython",
    "version": 3
   },
   "file_extension": ".py",
   "mimetype": "text/x-python",
   "name": "python",
   "nbconvert_exporter": "python",
   "pygments_lexer": "ipython3",
   "version": "3.10.12"
  },
  "papermill": {
   "default_parameters": {},
   "duration": 24.437236,
   "end_time": "2023-12-22T08:57:44.613157",
   "environment_variables": {},
   "exception": null,
   "input_path": "__notebook__.ipynb",
   "output_path": "__notebook__.ipynb",
   "parameters": {},
   "start_time": "2023-12-22T08:57:20.175921",
   "version": "2.4.0"
  }
 },
 "nbformat": 4,
 "nbformat_minor": 5
}
