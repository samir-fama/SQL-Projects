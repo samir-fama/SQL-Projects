{
 "cells": [
  {
   "cell_type": "markdown",
   "id": "0abe3fe1",
   "metadata": {
    "papermill": {
     "duration": 0.010438,
     "end_time": "2023-12-22T08:51:31.216438",
     "exception": false,
     "start_time": "2023-12-22T08:51:31.206000",
     "status": "completed"
    },
    "tags": []
   },
   "source": [
    "**This notebook is an exercise in the [SQL](https://www.kaggle.com/learn/intro-to-sql) course.  You can reference the tutorial at [this link](https://www.kaggle.com/dansbecker/getting-started-with-sql-and-bigquery).**\n",
    "\n",
    "---\n"
   ]
  },
  {
   "cell_type": "markdown",
   "id": "859c1925",
   "metadata": {
    "papermill": {
     "duration": 0.007805,
     "end_time": "2023-12-22T08:51:31.232802",
     "exception": false,
     "start_time": "2023-12-22T08:51:31.224997",
     "status": "completed"
    },
    "tags": []
   },
   "source": [
    "# Introduction\n",
    "\n",
    "The first test of your new data exploration skills uses data describing crime in the city of Chicago.\n",
    "\n",
    "Before you get started, run the following cell. It sets up the automated feedback system to review your answers."
   ]
  },
  {
   "cell_type": "code",
   "execution_count": 1,
   "id": "383a36bb",
   "metadata": {
    "execution": {
     "iopub.execute_input": "2023-12-22T08:51:31.252788Z",
     "iopub.status.busy": "2023-12-22T08:51:31.251227Z",
     "iopub.status.idle": "2023-12-22T08:51:40.215768Z",
     "shell.execute_reply": "2023-12-22T08:51:40.214167Z"
    },
    "papermill": {
     "duration": 8.977996,
     "end_time": "2023-12-22T08:51:40.219207",
     "exception": false,
     "start_time": "2023-12-22T08:51:31.241211",
     "status": "completed"
    },
    "tags": []
   },
   "outputs": [
    {
     "name": "stdout",
     "output_type": "stream",
     "text": [
      "Using Kaggle's public dataset BigQuery integration.\n",
      "Setup Complete\n"
     ]
    }
   ],
   "source": [
    "# Set up feedack system\n",
    "from learntools.core import binder\n",
    "binder.bind(globals())\n",
    "from learntools.sql.ex1 import *\n",
    "print(\"Setup Complete\")"
   ]
  },
  {
   "cell_type": "markdown",
   "id": "0cb42fd9",
   "metadata": {
    "papermill": {
     "duration": 0.008036,
     "end_time": "2023-12-22T08:51:40.235893",
     "exception": false,
     "start_time": "2023-12-22T08:51:40.227857",
     "status": "completed"
    },
    "tags": []
   },
   "source": [
    "Use the next code cell to fetch the dataset."
   ]
  },
  {
   "cell_type": "code",
   "execution_count": 2,
   "id": "5128425d",
   "metadata": {
    "execution": {
     "iopub.execute_input": "2023-12-22T08:51:40.255905Z",
     "iopub.status.busy": "2023-12-22T08:51:40.254951Z",
     "iopub.status.idle": "2023-12-22T08:51:40.603421Z",
     "shell.execute_reply": "2023-12-22T08:51:40.602016Z"
    },
    "papermill": {
     "duration": 0.362254,
     "end_time": "2023-12-22T08:51:40.606738",
     "exception": false,
     "start_time": "2023-12-22T08:51:40.244484",
     "status": "completed"
    },
    "tags": []
   },
   "outputs": [
    {
     "name": "stdout",
     "output_type": "stream",
     "text": [
      "Using Kaggle's public dataset BigQuery integration.\n"
     ]
    }
   ],
   "source": [
    "from google.cloud import bigquery\n",
    "\n",
    "# Create a \"Client\" object\n",
    "client = bigquery.Client()\n",
    "\n",
    "# Construct a reference to the \"chicago_crime\" dataset\n",
    "dataset_ref = client.dataset(\"chicago_crime\", project=\"bigquery-public-data\")\n",
    "\n",
    "# API request - fetch the dataset\n",
    "dataset = client.get_dataset(dataset_ref)"
   ]
  },
  {
   "cell_type": "markdown",
   "id": "3654fd9d",
   "metadata": {
    "papermill": {
     "duration": 0.008183,
     "end_time": "2023-12-22T08:51:40.623529",
     "exception": false,
     "start_time": "2023-12-22T08:51:40.615346",
     "status": "completed"
    },
    "tags": []
   },
   "source": [
    "# Exercises\n",
    "\n",
    "### 1) Count tables in the dataset\n",
    "\n",
    "How many tables are in the Chicago Crime dataset?"
   ]
  },
  {
   "cell_type": "code",
   "execution_count": 3,
   "id": "4cc3dc22",
   "metadata": {
    "execution": {
     "iopub.execute_input": "2023-12-22T08:51:40.642988Z",
     "iopub.status.busy": "2023-12-22T08:51:40.642475Z",
     "iopub.status.idle": "2023-12-22T08:51:41.261114Z",
     "shell.execute_reply": "2023-12-22T08:51:41.259174Z"
    },
    "papermill": {
     "duration": 0.632327,
     "end_time": "2023-12-22T08:51:41.264375",
     "exception": false,
     "start_time": "2023-12-22T08:51:40.632048",
     "status": "completed"
    },
    "tags": []
   },
   "outputs": [
    {
     "name": "stdout",
     "output_type": "stream",
     "text": [
      "crime\n"
     ]
    }
   ],
   "source": [
    "tables = list(client.list_tables(dataset))\n",
    "\n",
    "# Print names of all tables in the dataset (there are four!)\n",
    "for table in tables:  \n",
    "    print(table.table_id)"
   ]
  },
  {
   "cell_type": "code",
   "execution_count": 4,
   "id": "65b7e2b1",
   "metadata": {
    "execution": {
     "iopub.execute_input": "2023-12-22T08:51:41.285171Z",
     "iopub.status.busy": "2023-12-22T08:51:41.284669Z",
     "iopub.status.idle": "2023-12-22T08:51:41.903372Z",
     "shell.execute_reply": "2023-12-22T08:51:41.902141Z"
    },
    "papermill": {
     "duration": 0.632413,
     "end_time": "2023-12-22T08:51:41.906385",
     "exception": false,
     "start_time": "2023-12-22T08:51:41.273972",
     "status": "completed"
    },
    "tags": []
   },
   "outputs": [
    {
     "name": "stdout",
     "output_type": "stream",
     "text": [
      "1\n"
     ]
    }
   ],
   "source": [
    "tables = list(client.list_tables(dataset))\n",
    "\n",
    "# Print number of tables in the dataset\n",
    "print(len(tables))"
   ]
  },
  {
   "cell_type": "code",
   "execution_count": 5,
   "id": "22e630a4",
   "metadata": {
    "execution": {
     "iopub.execute_input": "2023-12-22T08:51:41.930061Z",
     "iopub.status.busy": "2023-12-22T08:51:41.929120Z",
     "iopub.status.idle": "2023-12-22T08:51:41.941366Z",
     "shell.execute_reply": "2023-12-22T08:51:41.940162Z"
    },
    "papermill": {
     "duration": 0.028013,
     "end_time": "2023-12-22T08:51:41.944061",
     "exception": false,
     "start_time": "2023-12-22T08:51:41.916048",
     "status": "completed"
    },
    "tags": []
   },
   "outputs": [
    {
     "data": {
      "application/javascript": [
       "parent.postMessage({\"jupyterEvent\": \"custom.exercise_interaction\", \"data\": {\"outcomeType\": 1, \"valueTowardsCompletion\": 0.3333333333333333, \"interactionType\": 1, \"questionType\": 1, \"questionId\": \"1_CountTables\", \"learnToolsVersion\": \"0.3.4\", \"failureMessage\": \"\", \"exceptionClass\": \"\", \"trace\": \"\"}}, \"*\")"
      ],
      "text/plain": [
       "<IPython.core.display.Javascript object>"
      ]
     },
     "metadata": {},
     "output_type": "display_data"
    },
    {
     "data": {
      "text/markdown": [
       "<span style=\"color:#33cc33\">Correct</span>"
      ],
      "text/plain": [
       "Correct"
      ]
     },
     "metadata": {},
     "output_type": "display_data"
    }
   ],
   "source": [
    "num_tables = len(tables)  # Store the answer as num_tables and then run this cell\n",
    "\n",
    "# Check your answer\n",
    "q_1.check()"
   ]
  },
  {
   "cell_type": "markdown",
   "id": "1b2432ea",
   "metadata": {
    "papermill": {
     "duration": 0.00888,
     "end_time": "2023-12-22T08:51:41.962334",
     "exception": false,
     "start_time": "2023-12-22T08:51:41.953454",
     "status": "completed"
    },
    "tags": []
   },
   "source": [
    "For a hint or the solution, uncomment the appropriate line below."
   ]
  },
  {
   "cell_type": "code",
   "execution_count": 6,
   "id": "213cff68",
   "metadata": {
    "execution": {
     "iopub.execute_input": "2023-12-22T08:51:41.985883Z",
     "iopub.status.busy": "2023-12-22T08:51:41.984834Z",
     "iopub.status.idle": "2023-12-22T08:51:41.990140Z",
     "shell.execute_reply": "2023-12-22T08:51:41.989089Z"
    },
    "papermill": {
     "duration": 0.020433,
     "end_time": "2023-12-22T08:51:41.993009",
     "exception": false,
     "start_time": "2023-12-22T08:51:41.972576",
     "status": "completed"
    },
    "tags": []
   },
   "outputs": [],
   "source": [
    "# q_1.hint()\n",
    "# q_1.solution()"
   ]
  },
  {
   "cell_type": "markdown",
   "id": "4f610df2",
   "metadata": {
    "papermill": {
     "duration": 0.010043,
     "end_time": "2023-12-22T08:51:42.012706",
     "exception": false,
     "start_time": "2023-12-22T08:51:42.002663",
     "status": "completed"
    },
    "tags": []
   },
   "source": [
    "### 2) Explore the table schema\n",
    "\n",
    "How many columns in the `crime` table have `TIMESTAMP` data?"
   ]
  },
  {
   "cell_type": "markdown",
   "id": "9c73c6f6",
   "metadata": {
    "papermill": {
     "duration": 0.009849,
     "end_time": "2023-12-22T08:51:42.031815",
     "exception": false,
     "start_time": "2023-12-22T08:51:42.021966",
     "status": "completed"
    },
    "tags": []
   },
   "source": []
  },
  {
   "cell_type": "code",
   "execution_count": 7,
   "id": "d520f831",
   "metadata": {
    "execution": {
     "iopub.execute_input": "2023-12-22T08:51:42.053689Z",
     "iopub.status.busy": "2023-12-22T08:51:42.052928Z",
     "iopub.status.idle": "2023-12-22T08:51:42.403370Z",
     "shell.execute_reply": "2023-12-22T08:51:42.402102Z"
    },
    "papermill": {
     "duration": 0.36434,
     "end_time": "2023-12-22T08:51:42.406010",
     "exception": false,
     "start_time": "2023-12-22T08:51:42.041670",
     "status": "completed"
    },
    "tags": []
   },
   "outputs": [
    {
     "name": "stdout",
     "output_type": "stream",
     "text": [
      "['TIMESTAMP', 'TIMESTAMP']\n"
     ]
    }
   ],
   "source": [
    "table_ref = dataset_ref.table(\"crime\")\n",
    "table = client.get_table(table_ref)\n",
    "\n",
    "sch_list = table.schema\n",
    "timestamp_list = [s.field_type for s in sch_list if s.field_type == \"TIMESTAMP\"]\n",
    "\n",
    "print(timestamp_list)"
   ]
  },
  {
   "cell_type": "code",
   "execution_count": 8,
   "id": "07b6bb78",
   "metadata": {
    "execution": {
     "iopub.execute_input": "2023-12-22T08:51:42.428136Z",
     "iopub.status.busy": "2023-12-22T08:51:42.426978Z",
     "iopub.status.idle": "2023-12-22T08:51:42.438179Z",
     "shell.execute_reply": "2023-12-22T08:51:42.436679Z"
    },
    "papermill": {
     "duration": 0.026129,
     "end_time": "2023-12-22T08:51:42.441110",
     "exception": false,
     "start_time": "2023-12-22T08:51:42.414981",
     "status": "completed"
    },
    "tags": []
   },
   "outputs": [
    {
     "data": {
      "application/javascript": [
       "parent.postMessage({\"jupyterEvent\": \"custom.exercise_interaction\", \"data\": {\"outcomeType\": 1, \"valueTowardsCompletion\": 0.3333333333333333, \"interactionType\": 1, \"questionType\": 1, \"questionId\": \"2_CountTimestampFields\", \"learnToolsVersion\": \"0.3.4\", \"failureMessage\": \"\", \"exceptionClass\": \"\", \"trace\": \"\"}}, \"*\")"
      ],
      "text/plain": [
       "<IPython.core.display.Javascript object>"
      ]
     },
     "metadata": {},
     "output_type": "display_data"
    },
    {
     "data": {
      "text/markdown": [
       "<span style=\"color:#33cc33\">Correct</span>"
      ],
      "text/plain": [
       "Correct"
      ]
     },
     "metadata": {},
     "output_type": "display_data"
    }
   ],
   "source": [
    "num_timestamp_fields = len(timestamp_list) # Put your answer here\n",
    "\n",
    "# Check your answer\n",
    "q_2.check()"
   ]
  },
  {
   "cell_type": "markdown",
   "id": "9e33dfe3",
   "metadata": {
    "papermill": {
     "duration": 0.009005,
     "end_time": "2023-12-22T08:51:42.459523",
     "exception": false,
     "start_time": "2023-12-22T08:51:42.450518",
     "status": "completed"
    },
    "tags": []
   },
   "source": [
    "For a hint or the solution, uncomment the appropriate line below."
   ]
  },
  {
   "cell_type": "code",
   "execution_count": 9,
   "id": "50f34cac",
   "metadata": {
    "execution": {
     "iopub.execute_input": "2023-12-22T08:51:42.481858Z",
     "iopub.status.busy": "2023-12-22T08:51:42.480733Z",
     "iopub.status.idle": "2023-12-22T08:51:42.486416Z",
     "shell.execute_reply": "2023-12-22T08:51:42.485242Z"
    },
    "papermill": {
     "duration": 0.020322,
     "end_time": "2023-12-22T08:51:42.489421",
     "exception": false,
     "start_time": "2023-12-22T08:51:42.469099",
     "status": "completed"
    },
    "tags": []
   },
   "outputs": [],
   "source": [
    "#q_2.hint()\n",
    "# q_2.solution()"
   ]
  },
  {
   "cell_type": "markdown",
   "id": "2b6b2334",
   "metadata": {
    "papermill": {
     "duration": 0.009171,
     "end_time": "2023-12-22T08:51:42.508813",
     "exception": false,
     "start_time": "2023-12-22T08:51:42.499642",
     "status": "completed"
    },
    "tags": []
   },
   "source": [
    "### 3) Create a crime map\n",
    "\n",
    "If you wanted to create a map with a dot at the location of each crime, what are the names of the two fields you likely need to pull out of the `crime` table to plot the crimes on a map?"
   ]
  },
  {
   "cell_type": "code",
   "execution_count": 10,
   "id": "1f26aec8",
   "metadata": {
    "execution": {
     "iopub.execute_input": "2023-12-22T08:51:42.531630Z",
     "iopub.status.busy": "2023-12-22T08:51:42.529936Z",
     "iopub.status.idle": "2023-12-22T08:51:43.175880Z",
     "shell.execute_reply": "2023-12-22T08:51:43.174417Z"
    },
    "papermill": {
     "duration": 0.661394,
     "end_time": "2023-12-22T08:51:43.179795",
     "exception": false,
     "start_time": "2023-12-22T08:51:42.518401",
     "status": "completed"
    },
    "tags": []
   },
   "outputs": [
    {
     "data": {
      "text/html": [
       "<div>\n",
       "<style scoped>\n",
       "    .dataframe tbody tr th:only-of-type {\n",
       "        vertical-align: middle;\n",
       "    }\n",
       "\n",
       "    .dataframe tbody tr th {\n",
       "        vertical-align: top;\n",
       "    }\n",
       "\n",
       "    .dataframe thead th {\n",
       "        text-align: right;\n",
       "    }\n",
       "</style>\n",
       "<table border=\"1\" class=\"dataframe\">\n",
       "  <thead>\n",
       "    <tr style=\"text-align: right;\">\n",
       "      <th></th>\n",
       "      <th>unique_key</th>\n",
       "      <th>case_number</th>\n",
       "      <th>date</th>\n",
       "      <th>block</th>\n",
       "      <th>iucr</th>\n",
       "      <th>primary_type</th>\n",
       "      <th>description</th>\n",
       "      <th>location_description</th>\n",
       "      <th>arrest</th>\n",
       "      <th>domestic</th>\n",
       "      <th>...</th>\n",
       "      <th>ward</th>\n",
       "      <th>community_area</th>\n",
       "      <th>fbi_code</th>\n",
       "      <th>x_coordinate</th>\n",
       "      <th>y_coordinate</th>\n",
       "      <th>year</th>\n",
       "      <th>updated_on</th>\n",
       "      <th>latitude</th>\n",
       "      <th>longitude</th>\n",
       "      <th>location</th>\n",
       "    </tr>\n",
       "  </thead>\n",
       "  <tbody>\n",
       "    <tr>\n",
       "      <th>0</th>\n",
       "      <td>9392679</td>\n",
       "      <td>HW536237</td>\n",
       "      <td>2013-11-15 05:00:00+00:00</td>\n",
       "      <td>002XX N STATE ST</td>\n",
       "      <td>0281</td>\n",
       "      <td>CRIM SEXUAL ASSAULT</td>\n",
       "      <td>NON-AGGRAVATED</td>\n",
       "      <td>HOTEL/MOTEL</td>\n",
       "      <td>False</td>\n",
       "      <td>False</td>\n",
       "      <td>...</td>\n",
       "      <td>42</td>\n",
       "      <td>32</td>\n",
       "      <td>02</td>\n",
       "      <td>1176327.0</td>\n",
       "      <td>1901797.0</td>\n",
       "      <td>2013</td>\n",
       "      <td>2018-02-10 03:50:01+00:00</td>\n",
       "      <td>41.885888</td>\n",
       "      <td>-87.627942</td>\n",
       "      <td>(41.885888079, -87.627942238)</td>\n",
       "    </tr>\n",
       "    <tr>\n",
       "      <th>1</th>\n",
       "      <td>8409334</td>\n",
       "      <td>HT642418</td>\n",
       "      <td>2011-12-21 06:00:00+00:00</td>\n",
       "      <td>003XX S CANAL ST</td>\n",
       "      <td>0313</td>\n",
       "      <td>ROBBERY</td>\n",
       "      <td>ARMED: OTHER DANGEROUS WEAPON</td>\n",
       "      <td>SIDEWALK</td>\n",
       "      <td>False</td>\n",
       "      <td>False</td>\n",
       "      <td>...</td>\n",
       "      <td>2</td>\n",
       "      <td>28</td>\n",
       "      <td>03</td>\n",
       "      <td>1173189.0</td>\n",
       "      <td>1898797.0</td>\n",
       "      <td>2011</td>\n",
       "      <td>2016-02-04 06:33:39+00:00</td>\n",
       "      <td>41.877726</td>\n",
       "      <td>-87.639555</td>\n",
       "      <td>(41.877726093, -87.639554589)</td>\n",
       "    </tr>\n",
       "    <tr>\n",
       "      <th>2</th>\n",
       "      <td>13300080</td>\n",
       "      <td>JG531536</td>\n",
       "      <td>2023-12-06 11:00:00+00:00</td>\n",
       "      <td>0000X E LAKE ST</td>\n",
       "      <td>031A</td>\n",
       "      <td>ROBBERY</td>\n",
       "      <td>ARMED - HANDGUN</td>\n",
       "      <td>CONVENIENCE STORE</td>\n",
       "      <td>False</td>\n",
       "      <td>False</td>\n",
       "      <td>...</td>\n",
       "      <td>42</td>\n",
       "      <td>32</td>\n",
       "      <td>03</td>\n",
       "      <td>1176905.0</td>\n",
       "      <td>1901744.0</td>\n",
       "      <td>2023</td>\n",
       "      <td>2023-12-14 03:41:01+00:00</td>\n",
       "      <td>41.885730</td>\n",
       "      <td>-87.625821</td>\n",
       "      <td>(41.885729587, -87.625821329)</td>\n",
       "    </tr>\n",
       "    <tr>\n",
       "      <th>3</th>\n",
       "      <td>5625200</td>\n",
       "      <td>HN433425</td>\n",
       "      <td>2007-06-24 05:45:00+00:00</td>\n",
       "      <td>002XX S WACKER DR</td>\n",
       "      <td>031A</td>\n",
       "      <td>ROBBERY</td>\n",
       "      <td>ARMED: HANDGUN</td>\n",
       "      <td>LAKEFRONT/WATERFRONT/RIVERBANK</td>\n",
       "      <td>False</td>\n",
       "      <td>False</td>\n",
       "      <td>...</td>\n",
       "      <td>2</td>\n",
       "      <td>32</td>\n",
       "      <td>03</td>\n",
       "      <td>1173895.0</td>\n",
       "      <td>1899278.0</td>\n",
       "      <td>2007</td>\n",
       "      <td>2018-02-28 03:56:25+00:00</td>\n",
       "      <td>41.879030</td>\n",
       "      <td>-87.636948</td>\n",
       "      <td>(41.879030298, -87.636948032)</td>\n",
       "    </tr>\n",
       "    <tr>\n",
       "      <th>4</th>\n",
       "      <td>8796638</td>\n",
       "      <td>HV470765</td>\n",
       "      <td>2012-09-11 01:30:00+00:00</td>\n",
       "      <td>0000X E WACKER DR</td>\n",
       "      <td>0320</td>\n",
       "      <td>ROBBERY</td>\n",
       "      <td>STRONGARM - NO WEAPON</td>\n",
       "      <td>SIDEWALK</td>\n",
       "      <td>False</td>\n",
       "      <td>False</td>\n",
       "      <td>...</td>\n",
       "      <td>42</td>\n",
       "      <td>32</td>\n",
       "      <td>03</td>\n",
       "      <td>1176956.0</td>\n",
       "      <td>1902517.0</td>\n",
       "      <td>2012</td>\n",
       "      <td>2018-02-10 03:50:01+00:00</td>\n",
       "      <td>41.887850</td>\n",
       "      <td>-87.625611</td>\n",
       "      <td>(41.887849586, -87.625610638)</td>\n",
       "    </tr>\n",
       "  </tbody>\n",
       "</table>\n",
       "<p>5 rows × 22 columns</p>\n",
       "</div>"
      ],
      "text/plain": [
       "   unique_key case_number                      date              block  iucr  \\\n",
       "0     9392679    HW536237 2013-11-15 05:00:00+00:00   002XX N STATE ST  0281   \n",
       "1     8409334    HT642418 2011-12-21 06:00:00+00:00   003XX S CANAL ST  0313   \n",
       "2    13300080    JG531536 2023-12-06 11:00:00+00:00    0000X E LAKE ST  031A   \n",
       "3     5625200    HN433425 2007-06-24 05:45:00+00:00  002XX S WACKER DR  031A   \n",
       "4     8796638    HV470765 2012-09-11 01:30:00+00:00  0000X E WACKER DR  0320   \n",
       "\n",
       "          primary_type                    description  \\\n",
       "0  CRIM SEXUAL ASSAULT                 NON-AGGRAVATED   \n",
       "1              ROBBERY  ARMED: OTHER DANGEROUS WEAPON   \n",
       "2              ROBBERY                ARMED - HANDGUN   \n",
       "3              ROBBERY                 ARMED: HANDGUN   \n",
       "4              ROBBERY          STRONGARM - NO WEAPON   \n",
       "\n",
       "             location_description  arrest  domestic  ...  ward  \\\n",
       "0                     HOTEL/MOTEL   False     False  ...    42   \n",
       "1                        SIDEWALK   False     False  ...     2   \n",
       "2               CONVENIENCE STORE   False     False  ...    42   \n",
       "3  LAKEFRONT/WATERFRONT/RIVERBANK   False     False  ...     2   \n",
       "4                        SIDEWALK   False     False  ...    42   \n",
       "\n",
       "   community_area  fbi_code  x_coordinate y_coordinate  year  \\\n",
       "0              32        02     1176327.0    1901797.0  2013   \n",
       "1              28        03     1173189.0    1898797.0  2011   \n",
       "2              32        03     1176905.0    1901744.0  2023   \n",
       "3              32        03     1173895.0    1899278.0  2007   \n",
       "4              32        03     1176956.0    1902517.0  2012   \n",
       "\n",
       "                 updated_on   latitude  longitude  \\\n",
       "0 2018-02-10 03:50:01+00:00  41.885888 -87.627942   \n",
       "1 2016-02-04 06:33:39+00:00  41.877726 -87.639555   \n",
       "2 2023-12-14 03:41:01+00:00  41.885730 -87.625821   \n",
       "3 2018-02-28 03:56:25+00:00  41.879030 -87.636948   \n",
       "4 2018-02-10 03:50:01+00:00  41.887850 -87.625611   \n",
       "\n",
       "                        location  \n",
       "0  (41.885888079, -87.627942238)  \n",
       "1  (41.877726093, -87.639554589)  \n",
       "2  (41.885729587, -87.625821329)  \n",
       "3  (41.879030298, -87.636948032)  \n",
       "4  (41.887849586, -87.625610638)  \n",
       "\n",
       "[5 rows x 22 columns]"
      ]
     },
     "execution_count": 10,
     "metadata": {},
     "output_type": "execute_result"
    }
   ],
   "source": [
    "# Write the code here to explore the data so you can find the answer\n",
    "name_list = [table.schema[i].name for i in range(len(table.schema))]\n",
    "descript_list = [table.schema[i].description for i in range(len(table.schema))]\n",
    "\n",
    "client.list_rows(table, max_results=5).to_dataframe()"
   ]
  },
  {
   "cell_type": "code",
   "execution_count": 11,
   "id": "6c50f6eb",
   "metadata": {
    "execution": {
     "iopub.execute_input": "2023-12-22T08:51:43.202835Z",
     "iopub.status.busy": "2023-12-22T08:51:43.202244Z",
     "iopub.status.idle": "2023-12-22T08:51:43.216185Z",
     "shell.execute_reply": "2023-12-22T08:51:43.214429Z"
    },
    "papermill": {
     "duration": 0.029574,
     "end_time": "2023-12-22T08:51:43.219417",
     "exception": false,
     "start_time": "2023-12-22T08:51:43.189843",
     "status": "completed"
    },
    "tags": []
   },
   "outputs": [
    {
     "data": {
      "application/javascript": [
       "parent.postMessage({\"jupyterEvent\": \"custom.exercise_interaction\", \"data\": {\"outcomeType\": 1, \"valueTowardsCompletion\": 0.3333333333333333, \"interactionType\": 1, \"questionType\": 2, \"questionId\": \"3_IdentifyFieldsForPlotting\", \"learnToolsVersion\": \"0.3.4\", \"failureMessage\": \"\", \"exceptionClass\": \"\", \"trace\": \"\"}}, \"*\")"
      ],
      "text/plain": [
       "<IPython.core.display.Javascript object>"
      ]
     },
     "metadata": {},
     "output_type": "display_data"
    },
    {
     "data": {
      "text/markdown": [
       "<span style=\"color:#33cc33\">Correct</span>"
      ],
      "text/plain": [
       "Correct"
      ]
     },
     "metadata": {},
     "output_type": "display_data"
    }
   ],
   "source": [
    "fields_for_plotting = ['latitude', 'longitude'] # Put your answers here\n",
    "\n",
    "# Check your answer\n",
    "q_3.check()"
   ]
  },
  {
   "cell_type": "markdown",
   "id": "15e606e7",
   "metadata": {
    "papermill": {
     "duration": 0.011087,
     "end_time": "2023-12-22T08:51:43.241167",
     "exception": false,
     "start_time": "2023-12-22T08:51:43.230080",
     "status": "completed"
    },
    "tags": []
   },
   "source": [
    "For a hint or the solution, uncomment the appropriate line below."
   ]
  },
  {
   "cell_type": "code",
   "execution_count": 12,
   "id": "302c3c33",
   "metadata": {
    "execution": {
     "iopub.execute_input": "2023-12-22T08:51:43.264895Z",
     "iopub.status.busy": "2023-12-22T08:51:43.264311Z",
     "iopub.status.idle": "2023-12-22T08:51:43.269917Z",
     "shell.execute_reply": "2023-12-22T08:51:43.268573Z"
    },
    "papermill": {
     "duration": 0.020959,
     "end_time": "2023-12-22T08:51:43.272606",
     "exception": false,
     "start_time": "2023-12-22T08:51:43.251647",
     "status": "completed"
    },
    "tags": []
   },
   "outputs": [],
   "source": [
    "# q_3.hint()\n",
    "#q_3.solution()"
   ]
  },
  {
   "cell_type": "markdown",
   "id": "63ab1acf",
   "metadata": {
    "papermill": {
     "duration": 0.010098,
     "end_time": "2023-12-22T08:51:43.293231",
     "exception": false,
     "start_time": "2023-12-22T08:51:43.283133",
     "status": "completed"
    },
    "tags": []
   },
   "source": [
    "Thinking about the question above, there are a few columns that appear to have geographic data. Look at a few values (with the `list_rows()` command) to see if you can determine their relationship.  Two columns will still be hard to interpret. But it should be obvious how the `location` column relates to `latitude` and `longitude`."
   ]
  },
  {
   "cell_type": "code",
   "execution_count": 13,
   "id": "138b43ec",
   "metadata": {
    "execution": {
     "iopub.execute_input": "2023-12-22T08:51:43.316496Z",
     "iopub.status.busy": "2023-12-22T08:51:43.315894Z",
     "iopub.status.idle": "2023-12-22T08:51:43.321888Z",
     "shell.execute_reply": "2023-12-22T08:51:43.320422Z"
    },
    "papermill": {
     "duration": 0.02076,
     "end_time": "2023-12-22T08:51:43.324485",
     "exception": false,
     "start_time": "2023-12-22T08:51:43.303725",
     "status": "completed"
    },
    "tags": []
   },
   "outputs": [],
   "source": [
    "# Scratch space for your code"
   ]
  },
  {
   "cell_type": "markdown",
   "id": "5ae710c7",
   "metadata": {
    "papermill": {
     "duration": 0.010997,
     "end_time": "2023-12-22T08:51:43.346260",
     "exception": false,
     "start_time": "2023-12-22T08:51:43.335263",
     "status": "completed"
    },
    "tags": []
   },
   "source": [
    "# Keep going\n",
    "\n",
    "You've looked at the schema, but you haven't yet done anything exciting with the data itself. Things get more interesting when you get to the data, so keep going to **[write your first SQL query](https://www.kaggle.com/dansbecker/select-from-where).**"
   ]
  },
  {
   "cell_type": "markdown",
   "id": "84dbda6d",
   "metadata": {
    "papermill": {
     "duration": 0.010092,
     "end_time": "2023-12-22T08:51:43.367358",
     "exception": false,
     "start_time": "2023-12-22T08:51:43.357266",
     "status": "completed"
    },
    "tags": []
   },
   "source": [
    "---\n",
    "\n",
    "\n",
    "\n",
    "\n",
    "*Have questions or comments? Visit the [course discussion forum](https://www.kaggle.com/learn/intro-to-sql/discussion) to chat with other learners.*"
   ]
  }
 ],
 "metadata": {
  "kaggle": {
   "accelerator": "none",
   "dataSources": [
    {
     "datasetId": 22090,
     "sourceId": 28376,
     "sourceType": "datasetVersion"
    },
    {
     "datasetId": 6057,
     "sourceId": 285982,
     "sourceType": "datasetVersion"
    }
   ],
   "isGpuEnabled": false,
   "isInternetEnabled": false,
   "language": "python",
   "sourceType": "notebook"
  },
  "kernelspec": {
   "display_name": "Python 3",
   "language": "python",
   "name": "python3"
  },
  "language_info": {
   "codemirror_mode": {
    "name": "ipython",
    "version": 3
   },
   "file_extension": ".py",
   "mimetype": "text/x-python",
   "name": "python",
   "nbconvert_exporter": "python",
   "pygments_lexer": "ipython3",
   "version": "3.10.12"
  },
  "papermill": {
   "default_parameters": {},
   "duration": 17.783356,
   "end_time": "2023-12-22T08:51:44.708553",
   "environment_variables": {},
   "exception": null,
   "input_path": "__notebook__.ipynb",
   "output_path": "__notebook__.ipynb",
   "parameters": {},
   "start_time": "2023-12-22T08:51:26.925197",
   "version": "2.4.0"
  }
 },
 "nbformat": 4,
 "nbformat_minor": 5
}
