{
 "cells": [
  {
   "cell_type": "markdown",
   "id": "db9a0366",
   "metadata": {
    "papermill": {
     "duration": 0.004885,
     "end_time": "2023-12-22T08:57:40.386746",
     "exception": false,
     "start_time": "2023-12-22T08:57:40.381861",
     "status": "completed"
    },
    "tags": []
   },
   "source": [
    "**This notebook is an exercise in the [Advanced SQL](https://www.kaggle.com/learn/advanced-sql) course.  You can reference the tutorial at [this link](https://www.kaggle.com/alexisbcook/writing-efficient-queries).**\n",
    "\n",
    "---\n"
   ]
  },
  {
   "cell_type": "markdown",
   "id": "caf7081e",
   "metadata": {
    "papermill": {
     "duration": 0.00403,
     "end_time": "2023-12-22T08:57:40.395098",
     "exception": false,
     "start_time": "2023-12-22T08:57:40.391068",
     "status": "completed"
    },
    "tags": []
   },
   "source": [
    "# Introduction\n",
    "\n",
    "Now, you'll use what you learned in the previous tutorial to improve the efficiency of several queries.\n",
    "\n",
    "Before you get started, run the following cell to set everything up."
   ]
  },
  {
   "cell_type": "code",
   "execution_count": 1,
   "id": "da246d94",
   "metadata": {
    "execution": {
     "iopub.execute_input": "2023-12-22T08:57:40.405692Z",
     "iopub.status.busy": "2023-12-22T08:57:40.405238Z",
     "iopub.status.idle": "2023-12-22T08:57:40.874802Z",
     "shell.execute_reply": "2023-12-22T08:57:40.873344Z"
    },
    "papermill": {
     "duration": 0.478305,
     "end_time": "2023-12-22T08:57:40.877422",
     "exception": false,
     "start_time": "2023-12-22T08:57:40.399117",
     "status": "completed"
    },
    "tags": []
   },
   "outputs": [
    {
     "name": "stdout",
     "output_type": "stream",
     "text": [
      "Setup Complete\n"
     ]
    }
   ],
   "source": [
    "# Set up feedback system\n",
    "from learntools.core import binder\n",
    "binder.bind(globals())\n",
    "from learntools.sql_advanced.ex4 import *\n",
    "print(\"Setup Complete\")"
   ]
  },
  {
   "cell_type": "markdown",
   "id": "b7d805e8",
   "metadata": {
    "papermill": {
     "duration": 0.003917,
     "end_time": "2023-12-22T08:57:40.885656",
     "exception": false,
     "start_time": "2023-12-22T08:57:40.881739",
     "status": "completed"
    },
    "tags": []
   },
   "source": [
    "# Exercises\n",
    "\n",
    "### 1) You work for Pet Costumes International.\n",
    "\n",
    "You need to write three queries this afternoon. You have enough time to write working versions of all three, but only enough time to think about optimizing one of them.  Which of these queries is most worth optimizing?\n",
    "\n",
    "1. A software engineer wrote an app for the shipping department, to see what items need to be shipped and which aisle of the warehouse to go to for those items. She wants you to write the query. It will involve data that is stored in an `orders` table, a `shipments` table and a `warehouseLocation` table. The employees in the shipping department will pull up this app on a tablet, hit refresh, and your query results will be shown in a nice interface so they can see what costumes to send where.\n",
    "\n",
    "\n",
    "2. The CEO wants a list of all customer reviews and complaints… which are conveniently stored in a single `reviews` table. Some of the reviews are really long… because people love your pirate costumes for parrots, and they can’t stop writing about how cute they are.\n",
    "\n",
    "\n",
    "3. Dog owners are getting more protective than ever. So your engineering department has made costumes with embedded GPS trackers and wireless communication devices. They send the costumes’ coordinates to your database once a second. You then have a website where owners can find the location of their dogs (or at least the costumes they have for those dogs). For this service to work, you need a query that shows the most recent location for all costumes owned by a given human. This will involve data in a `CostumeLocations` table as well as a `CostumeOwners` table.\n",
    "\n",
    "So, which of these could benefit most from being written efficiently?  Set the value of the `query_to_optimize` variable below to one of `1`, `2`, or `3`.  (Your answer should have type **integer**.)"
   ]
  },
  {
   "cell_type": "code",
   "execution_count": 2,
   "id": "8d89b7bc",
   "metadata": {
    "execution": {
     "iopub.execute_input": "2023-12-22T08:57:40.896176Z",
     "iopub.status.busy": "2023-12-22T08:57:40.895650Z",
     "iopub.status.idle": "2023-12-22T08:57:40.908529Z",
     "shell.execute_reply": "2023-12-22T08:57:40.907029Z"
    },
    "papermill": {
     "duration": 0.021196,
     "end_time": "2023-12-22T08:57:40.911075",
     "exception": false,
     "start_time": "2023-12-22T08:57:40.889879",
     "status": "completed"
    },
    "tags": []
   },
   "outputs": [
    {
     "data": {
      "application/javascript": [
       "parent.postMessage({\"jupyterEvent\": \"custom.exercise_interaction\", \"data\": {\"outcomeType\": 1, \"valueTowardsCompletion\": 0.5, \"interactionType\": 1, \"questionType\": 1, \"questionId\": \"1_PetCostumes\", \"learnToolsVersion\": \"0.3.4\", \"failureMessage\": \"\", \"exceptionClass\": \"\", \"trace\": \"\"}}, \"*\")"
      ],
      "text/plain": [
       "<IPython.core.display.Javascript object>"
      ]
     },
     "metadata": {},
     "output_type": "display_data"
    },
    {
     "data": {
      "text/markdown": [
       "<span style=\"color:#33cc33\">Correct:</span> \n",
       "\n",
       "\n",
       "`query_to_optimize = 3`\n",
       "\n",
       "Why **3**: Because data is sent for each costume at each second, this is the query that is likely to involve the most data (by far). And it will be run on a recurring basis. So writing this well could pay off on a recurring basis.\n",
       "\n",
       "Why not **1**: This is the second most valuable query to optimize. It will be run on a recurring basis, and it involves merges, which is commonly a place where you can make your queries more efficient\n",
       "\n",
       "Why not **2**: This sounds like it will be run only one time. So, it probably doesn’t matter if it takes a few seconds extra or costs a few cents more to run that one time. Also, it doesn’t involve JOINs. While the data has text fields (the reviews), that is the data you need. So, you can’t leave these out of your select query to save computation.\n"
      ],
      "text/plain": [
       "Correct: \n",
       "\n",
       "\n",
       "`query_to_optimize = 3`\n",
       "\n",
       "Why **3**: Because data is sent for each costume at each second, this is the query that is likely to involve the most data (by far). And it will be run on a recurring basis. So writing this well could pay off on a recurring basis.\n",
       "\n",
       "Why not **1**: This is the second most valuable query to optimize. It will be run on a recurring basis, and it involves merges, which is commonly a place where you can make your queries more efficient\n",
       "\n",
       "Why not **2**: This sounds like it will be run only one time. So, it probably doesn’t matter if it takes a few seconds extra or costs a few cents more to run that one time. Also, it doesn’t involve JOINs. While the data has text fields (the reviews), that is the data you need. So, you can’t leave these out of your select query to save computation."
      ]
     },
     "metadata": {},
     "output_type": "display_data"
    }
   ],
   "source": [
    "# Fill in your answer\n",
    "query_to_optimize = 3\n",
    "\n",
    "# Check your answer\n",
    "q_1.check()"
   ]
  },
  {
   "cell_type": "code",
   "execution_count": 3,
   "id": "bc5bcafe",
   "metadata": {
    "execution": {
     "iopub.execute_input": "2023-12-22T08:57:40.922264Z",
     "iopub.status.busy": "2023-12-22T08:57:40.921443Z",
     "iopub.status.idle": "2023-12-22T08:57:40.926492Z",
     "shell.execute_reply": "2023-12-22T08:57:40.925343Z"
    },
    "papermill": {
     "duration": 0.013322,
     "end_time": "2023-12-22T08:57:40.928924",
     "exception": false,
     "start_time": "2023-12-22T08:57:40.915602",
     "status": "completed"
    },
    "tags": []
   },
   "outputs": [],
   "source": [
    "# Lines below will give you a hint or solution code\n",
    "#q_1.hint()\n",
    "#q_1.solution()"
   ]
  },
  {
   "cell_type": "markdown",
   "id": "ccde1d55",
   "metadata": {
    "papermill": {
     "duration": 0.004334,
     "end_time": "2023-12-22T08:57:40.937856",
     "exception": false,
     "start_time": "2023-12-22T08:57:40.933522",
     "status": "completed"
    },
    "tags": []
   },
   "source": [
    "### 2) Make it easier to find Mitzie! \n",
    "\n",
    "You have the following two tables:\n",
    "\n",
    "![](https://storage.googleapis.com/kaggle-media/learn/images/E9jikOQ.png)\n",
    "\n",
    "The `CostumeLocations` table shows timestamped GPS data for all of the pet costumes in the database, where `CostumeID` is a unique identifier for each costume.  \n",
    "\n",
    "The `CostumeOwners` table shows who owns each costume, where the `OwnerID` column contains unique identifiers for each (human) owner.  Note that each owner can have more than one costume!  And, each costume can have more than one owner: this allows multiple individuals from the same household (all with their own, unique `OwnerID`) to access the locations of their pets' costumes.\n",
    "\n",
    "Say you need to use these tables to get the current location of one pet in particular: Mitzie the Dog recently ran off chasing a squirrel, but thankfully she was last seen in her hot dog costume!\n",
    "\n",
    "One of Mitzie's owners (with owner ID `MitzieOwnerID`) logs into your website to pull the last locations of every costume in his possession.  Currently, you get this information by running the following query:\n",
    "\n",
    "```sql\n",
    "WITH LocationsAndOwners AS \n",
    "(\n",
    "SELECT * \n",
    "FROM CostumeOwners co INNER JOIN CostumeLocations cl\n",
    "   ON co.CostumeID = cl.CostumeID\n",
    "),\n",
    "LastSeen AS\n",
    "(\n",
    "SELECT CostumeID, MAX(Timestamp)\n",
    "FROM LocationsAndOwners\n",
    "GROUP BY CostumeID\n",
    ")\n",
    "SELECT lo.CostumeID, Location \n",
    "FROM LocationsAndOwners lo INNER JOIN LastSeen ls \n",
    "\tON lo.Timestamp = ls.Timestamp AND lo.CostumeID = ls.CostumeID\n",
    "WHERE OwnerID = MitzieOwnerID\n",
    "```\n",
    "\n",
    "Is there a way to make this faster or cheaper?"
   ]
  },
  {
   "cell_type": "code",
   "execution_count": 4,
   "id": "9f93f816",
   "metadata": {
    "execution": {
     "iopub.execute_input": "2023-12-22T08:57:40.949045Z",
     "iopub.status.busy": "2023-12-22T08:57:40.948263Z",
     "iopub.status.idle": "2023-12-22T08:57:40.953063Z",
     "shell.execute_reply": "2023-12-22T08:57:40.951894Z"
    },
    "papermill": {
     "duration": 0.01298,
     "end_time": "2023-12-22T08:57:40.955426",
     "exception": false,
     "start_time": "2023-12-22T08:57:40.942446",
     "status": "completed"
    },
    "tags": []
   },
   "outputs": [],
   "source": [
    "# Line below will give you a hint\n",
    "# q_2.hint()"
   ]
  },
  {
   "cell_type": "code",
   "execution_count": 5,
   "id": "666d37df",
   "metadata": {
    "execution": {
     "iopub.execute_input": "2023-12-22T08:57:40.967162Z",
     "iopub.status.busy": "2023-12-22T08:57:40.966395Z",
     "iopub.status.idle": "2023-12-22T08:57:40.975817Z",
     "shell.execute_reply": "2023-12-22T08:57:40.974766Z"
    },
    "papermill": {
     "duration": 0.018162,
     "end_time": "2023-12-22T08:57:40.978311",
     "exception": false,
     "start_time": "2023-12-22T08:57:40.960149",
     "status": "completed"
    },
    "tags": []
   },
   "outputs": [
    {
     "data": {
      "application/javascript": [
       "parent.postMessage({\"jupyterEvent\": \"custom.exercise_interaction\", \"data\": {\"interactionType\": 3, \"questionType\": 4, \"questionId\": \"2_Mitzie\", \"learnToolsVersion\": \"0.3.4\", \"valueTowardsCompletion\": 0.0, \"failureMessage\": \"\", \"exceptionClass\": \"\", \"trace\": \"\", \"outcomeType\": 4}}, \"*\")"
      ],
      "text/plain": [
       "<IPython.core.display.Javascript object>"
      ]
     },
     "metadata": {},
     "output_type": "display_data"
    },
    {
     "data": {
      "text/markdown": [
       "<span style=\"color:#33cc99\">Solution:</span> \n",
       "Yes. Working with the LocationsAndOwners table is very inefficient, because it’s a big table. There are a few options here, and which works best depends on database specifics. One likely improvement is\n",
       "\n",
       "```\n",
       "WITH CurrentOwnersCostumes AS\n",
       "(\n",
       "SELECT CostumeID \n",
       "FROM CostumeOwners \n",
       "WHERE OwnerID = MitzieOwnerID\n",
       "),\n",
       "OwnersCostumesLocations AS\n",
       "(\n",
       "SELECT cc.CostumeID, Timestamp, Location \n",
       "FROM CurrentOwnersCostumes cc INNER JOIN CostumeLocations cl\n",
       "    ON cc.CostumeID = cl.CostumeID\n",
       "),\n",
       "LastSeen AS\n",
       "(\n",
       "SELECT CostumeID, MAX(Timestamp)\n",
       "FROM OwnersCostumesLocations\n",
       "GROUP BY CostumeID\n",
       ")\n",
       "SELECT ocl.CostumeID, Location \n",
       "FROM OwnersCostumesLocations ocl INNER JOIN LastSeen ls \n",
       "    ON ocl.timestamp = ls.timestamp AND ocl.CostumeID = ls.costumeID\n",
       "```\n",
       "\n",
       "**Why is this better?**\n",
       "\n",
       "Instead of doing large merges and running calculations (like finding the last timestamp) for every costume, we discard the rows for other owners as the first step. So each subsequent step (like calculating the last timestamp) is working with something like 99.999% fewer rows than what was needed in the original query.\n",
       "\n",
       "Databases have something called “Query Planners” to optimize details of how a query executes even after you write it. Perhaps some query planner would figure out the ability to do this. But the original query as written would be very inefficient on large datasets.\n"
      ],
      "text/plain": [
       "Solution: \n",
       "Yes. Working with the LocationsAndOwners table is very inefficient, because it’s a big table. There are a few options here, and which works best depends on database specifics. One likely improvement is\n",
       "\n",
       "```\n",
       "WITH CurrentOwnersCostumes AS\n",
       "(\n",
       "SELECT CostumeID \n",
       "FROM CostumeOwners \n",
       "WHERE OwnerID = MitzieOwnerID\n",
       "),\n",
       "OwnersCostumesLocations AS\n",
       "(\n",
       "SELECT cc.CostumeID, Timestamp, Location \n",
       "FROM CurrentOwnersCostumes cc INNER JOIN CostumeLocations cl\n",
       "    ON cc.CostumeID = cl.CostumeID\n",
       "),\n",
       "LastSeen AS\n",
       "(\n",
       "SELECT CostumeID, MAX(Timestamp)\n",
       "FROM OwnersCostumesLocations\n",
       "GROUP BY CostumeID\n",
       ")\n",
       "SELECT ocl.CostumeID, Location \n",
       "FROM OwnersCostumesLocations ocl INNER JOIN LastSeen ls \n",
       "    ON ocl.timestamp = ls.timestamp AND ocl.CostumeID = ls.costumeID\n",
       "```\n",
       "\n",
       "**Why is this better?**\n",
       "\n",
       "Instead of doing large merges and running calculations (like finding the last timestamp) for every costume, we discard the rows for other owners as the first step. So each subsequent step (like calculating the last timestamp) is working with something like 99.999% fewer rows than what was needed in the original query.\n",
       "\n",
       "Databases have something called “Query Planners” to optimize details of how a query executes even after you write it. Perhaps some query planner would figure out the ability to do this. But the original query as written would be very inefficient on large datasets."
      ]
     },
     "metadata": {},
     "output_type": "display_data"
    }
   ],
   "source": [
    "# View the solution (Run this code cell to receive credit!)\n",
    "q_2.solution()"
   ]
  },
  {
   "cell_type": "markdown",
   "id": "54d950ad",
   "metadata": {
    "papermill": {
     "duration": 0.004807,
     "end_time": "2023-12-22T08:57:40.988126",
     "exception": false,
     "start_time": "2023-12-22T08:57:40.983319",
     "status": "completed"
    },
    "tags": []
   },
   "source": [
    "# Conclusion\n",
    "\n",
    "Congratulations!  You have made it to the end of the micro-course.  You should be proud of all of your hard work!\n",
    "\n",
    "There is still a lot of room to build knowledge and experience.  In particular, you're encouraged to look through our BigQuery **[datasets](https://kaggle.com/datasets)** to practice your new skills."
   ]
  },
  {
   "cell_type": "markdown",
   "id": "57ad5f09",
   "metadata": {
    "papermill": {
     "duration": 0.004677,
     "end_time": "2023-12-22T08:57:40.997848",
     "exception": false,
     "start_time": "2023-12-22T08:57:40.993171",
     "status": "completed"
    },
    "tags": []
   },
   "source": [
    "---\n",
    "\n",
    "\n",
    "\n",
    "\n",
    "*Have questions or comments? Visit the [course discussion forum](https://www.kaggle.com/learn/advanced-sql/discussion) to chat with other learners.*"
   ]
  }
 ],
 "metadata": {
  "kaggle": {
   "accelerator": "none",
   "dataSources": [],
   "isGpuEnabled": false,
   "isInternetEnabled": false,
   "language": "python",
   "sourceType": "notebook"
  },
  "kernelspec": {
   "display_name": "Python 3",
   "language": "python",
   "name": "python3"
  },
  "language_info": {
   "codemirror_mode": {
    "name": "ipython",
    "version": 3
   },
   "file_extension": ".py",
   "mimetype": "text/x-python",
   "name": "python",
   "nbconvert_exporter": "python",
   "pygments_lexer": "ipython3",
   "version": "3.10.12"
  },
  "papermill": {
   "default_parameters": {},
   "duration": 4.453296,
   "end_time": "2023-12-22T08:57:41.422674",
   "environment_variables": {},
   "exception": null,
   "input_path": "__notebook__.ipynb",
   "output_path": "__notebook__.ipynb",
   "parameters": {},
   "start_time": "2023-12-22T08:57:36.969378",
   "version": "2.4.0"
  }
 },
 "nbformat": 4,
 "nbformat_minor": 5
}
