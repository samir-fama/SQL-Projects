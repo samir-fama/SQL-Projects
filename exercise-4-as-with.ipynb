{
 "cells": [
  {
   "cell_type": "markdown",
   "id": "f32c608a",
   "metadata": {
    "papermill": {
     "duration": 0.005637,
     "end_time": "2023-12-22T08:56:16.347520",
     "exception": false,
     "start_time": "2023-12-22T08:56:16.341883",
     "status": "completed"
    },
    "tags": []
   },
   "source": [
    "**This notebook is an exercise in the [SQL](https://www.kaggle.com/learn/intro-to-sql) course.  You can reference the tutorial at [this link](https://www.kaggle.com/dansbecker/as-with).**\n",
    "\n",
    "---\n"
   ]
  },
  {
   "cell_type": "markdown",
   "id": "c8add0d2",
   "metadata": {
    "papermill": {
     "duration": 0.004907,
     "end_time": "2023-12-22T08:56:16.357672",
     "exception": false,
     "start_time": "2023-12-22T08:56:16.352765",
     "status": "completed"
    },
    "tags": []
   },
   "source": [
    "# Introduction\n",
    "\n",
    "You are getting to the point where you can own an analysis from beginning to end. So you'll do more data exploration in this exercise than you've done before.  Before you get started, run the following set-up code as usual. "
   ]
  },
  {
   "cell_type": "code",
   "execution_count": 1,
   "id": "dee03972",
   "metadata": {
    "execution": {
     "iopub.execute_input": "2023-12-22T08:56:16.369539Z",
     "iopub.status.busy": "2023-12-22T08:56:16.369222Z",
     "iopub.status.idle": "2023-12-22T08:57:03.498317Z",
     "shell.execute_reply": "2023-12-22T08:57:03.497652Z"
    },
    "papermill": {
     "duration": 47.137402,
     "end_time": "2023-12-22T08:57:03.500126",
     "exception": false,
     "start_time": "2023-12-22T08:56:16.362724",
     "status": "completed"
    },
    "tags": []
   },
   "outputs": [
    {
     "name": "stdout",
     "output_type": "stream",
     "text": [
      "Collecting git+https://github.com/Kaggle/learntools.git\r\n",
      "  Cloning https://github.com/Kaggle/learntools.git to /tmp/pip-req-build-5h42irel\r\n",
      "  Running command git clone --filter=blob:none --quiet https://github.com/Kaggle/learntools.git /tmp/pip-req-build-5h42irel\r\n",
      "  fatal: unable to access 'https://github.com/Kaggle/learntools.git/': Could not resolve host: github.com\r\n",
      "  \u001b[1;31merror\u001b[0m: \u001b[1msubprocess-exited-with-error\u001b[0m\r\n",
      "  \r\n",
      "  \u001b[31m×\u001b[0m \u001b[32mgit clone --\u001b[0m\u001b[32mfilter\u001b[0m\u001b[32m=\u001b[0m\u001b[32mblob\u001b[0m\u001b[32m:none --quiet \u001b[0m\u001b[4;32mhttps://github.com/Kaggle/learntools.git\u001b[0m\u001b[32m \u001b[0m\u001b[32m/tmp/\u001b[0m\u001b[32mpip-req-build-5h42irel\u001b[0m did not run successfully.\r\n",
      "  \u001b[31m│\u001b[0m exit code: \u001b[1;36m128\u001b[0m\r\n",
      "  \u001b[31m╰─>\u001b[0m See above for output.\r\n",
      "  \r\n",
      "  \u001b[1;35mnote\u001b[0m: This error originates from a subprocess, and is likely not a problem with pip.\r\n",
      "\u001b[1;31merror\u001b[0m: \u001b[1msubprocess-exited-with-error\u001b[0m\r\n",
      "\r\n",
      "\u001b[31m×\u001b[0m \u001b[32mgit clone --\u001b[0m\u001b[32mfilter\u001b[0m\u001b[32m=\u001b[0m\u001b[32mblob\u001b[0m\u001b[32m:none --quiet \u001b[0m\u001b[4;32mhttps://github.com/Kaggle/learntools.git\u001b[0m\u001b[32m \u001b[0m\u001b[32m/tmp/\u001b[0m\u001b[32mpip-req-build-5h42irel\u001b[0m did not run successfully.\r\n",
      "\u001b[31m│\u001b[0m exit code: \u001b[1;36m128\u001b[0m\r\n",
      "\u001b[31m╰─>\u001b[0m See above for output.\r\n",
      "\r\n",
      "\u001b[1;35mnote\u001b[0m: This error originates from a subprocess, and is likely not a problem with pip.\r\n",
      "Using Kaggle's public dataset BigQuery integration.\n",
      "Setup Complete\n"
     ]
    }
   ],
   "source": [
    "# Get most recent checking code\n",
    "!pip install -U -t /kaggle/working/ git+https://github.com/Kaggle/learntools.git\n",
    "# Set up feedback system\n",
    "from learntools.core import binder\n",
    "binder.bind(globals())\n",
    "from learntools.sql.ex5 import *\n",
    "print(\"Setup Complete\")"
   ]
  },
  {
   "cell_type": "markdown",
   "id": "55204cf0",
   "metadata": {
    "papermill": {
     "duration": 0.005208,
     "end_time": "2023-12-22T08:57:03.511053",
     "exception": false,
     "start_time": "2023-12-22T08:57:03.505845",
     "status": "completed"
    },
    "tags": []
   },
   "source": [
    "You'll work with a dataset about taxi trips in the city of Chicago. Run the cell below to fetch the `chicago_taxi_trips` dataset."
   ]
  },
  {
   "cell_type": "code",
   "execution_count": 2,
   "id": "52c562ba",
   "metadata": {
    "execution": {
     "iopub.execute_input": "2023-12-22T08:57:03.524285Z",
     "iopub.status.busy": "2023-12-22T08:57:03.523042Z",
     "iopub.status.idle": "2023-12-22T08:57:03.840709Z",
     "shell.execute_reply": "2023-12-22T08:57:03.839379Z"
    },
    "papermill": {
     "duration": 0.326969,
     "end_time": "2023-12-22T08:57:03.843330",
     "exception": false,
     "start_time": "2023-12-22T08:57:03.516361",
     "status": "completed"
    },
    "tags": []
   },
   "outputs": [
    {
     "name": "stdout",
     "output_type": "stream",
     "text": [
      "Using Kaggle's public dataset BigQuery integration.\n"
     ]
    }
   ],
   "source": [
    "from google.cloud import bigquery\n",
    "\n",
    "# Create a \"Client\" object\n",
    "client = bigquery.Client()\n",
    "\n",
    "dataset_ref = client.dataset(\"chicago_taxi_trips\", project=\"bigquery-public-data\")\n",
    "dataset = client.get_dataset(dataset_ref)\n",
    "\n"
   ]
  },
  {
   "cell_type": "markdown",
   "id": "baa9c846",
   "metadata": {
    "papermill": {
     "duration": 0.005291,
     "end_time": "2023-12-22T08:57:03.854433",
     "exception": false,
     "start_time": "2023-12-22T08:57:03.849142",
     "status": "completed"
    },
    "tags": []
   },
   "source": [
    "# Exercises\n",
    "\n",
    "You are curious how much slower traffic moves when traffic volume is high. This involves a few steps.\n",
    "\n",
    "### 1) Find the data\n",
    "Before you can access the data, you need to find the table name with the data.\n",
    "\n",
    "*Hint*: Tab completion is helpful whenever you can't remember a command. Type `client.` and then hit the tab key. Don't forget the period before hitting tab."
   ]
  },
  {
   "cell_type": "code",
   "execution_count": 3,
   "id": "b7b359a6",
   "metadata": {
    "execution": {
     "iopub.execute_input": "2023-12-22T08:57:03.867561Z",
     "iopub.status.busy": "2023-12-22T08:57:03.866652Z",
     "iopub.status.idle": "2023-12-22T08:57:04.070700Z",
     "shell.execute_reply": "2023-12-22T08:57:04.069472Z"
    },
    "papermill": {
     "duration": 0.212661,
     "end_time": "2023-12-22T08:57:04.072625",
     "exception": false,
     "start_time": "2023-12-22T08:57:03.859964",
     "status": "completed"
    },
    "tags": []
   },
   "outputs": [
    {
     "name": "stdout",
     "output_type": "stream",
     "text": [
      "taxi_trips\n"
     ]
    }
   ],
   "source": [
    "tables = list(client.list_tables(dataset))\n",
    "\n",
    "for table in tables:\n",
    "    print(table.table_id)"
   ]
  },
  {
   "cell_type": "code",
   "execution_count": 4,
   "id": "90eaa107",
   "metadata": {
    "execution": {
     "iopub.execute_input": "2023-12-22T08:57:04.086333Z",
     "iopub.status.busy": "2023-12-22T08:57:04.085986Z",
     "iopub.status.idle": "2023-12-22T08:57:04.095133Z",
     "shell.execute_reply": "2023-12-22T08:57:04.094227Z"
    },
    "papermill": {
     "duration": 0.018153,
     "end_time": "2023-12-22T08:57:04.096950",
     "exception": false,
     "start_time": "2023-12-22T08:57:04.078797",
     "status": "completed"
    },
    "tags": []
   },
   "outputs": [
    {
     "data": {
      "application/javascript": [
       "parent.postMessage({\"jupyterEvent\": \"custom.exercise_interaction\", \"data\": {\"outcomeType\": 1, \"valueTowardsCompletion\": 0.16666666666666666, \"interactionType\": 1, \"questionType\": 1, \"questionId\": \"1_GetTableName\", \"learnToolsVersion\": \"0.3.4\", \"failureMessage\": \"\", \"exceptionClass\": \"\", \"trace\": \"\"}}, \"*\")"
      ],
      "text/plain": [
       "<IPython.core.display.Javascript object>"
      ]
     },
     "metadata": {},
     "output_type": "display_data"
    },
    {
     "data": {
      "text/markdown": [
       "<span style=\"color:#33cc33\">Correct</span>"
      ],
      "text/plain": [
       "Correct"
      ]
     },
     "metadata": {},
     "output_type": "display_data"
    }
   ],
   "source": [
    "# Write the table name as a string below\n",
    "table_name = 'taxi_trips'\n",
    "\n",
    "# Check your answer\n",
    "q_1.check()"
   ]
  },
  {
   "cell_type": "markdown",
   "id": "82807ba3",
   "metadata": {
    "papermill": {
     "duration": 0.006672,
     "end_time": "2023-12-22T08:57:04.109887",
     "exception": false,
     "start_time": "2023-12-22T08:57:04.103215",
     "status": "completed"
    },
    "tags": []
   },
   "source": [
    "For the solution, uncomment the line below."
   ]
  },
  {
   "cell_type": "code",
   "execution_count": 5,
   "id": "f56a91ae",
   "metadata": {
    "execution": {
     "iopub.execute_input": "2023-12-22T08:57:04.127170Z",
     "iopub.status.busy": "2023-12-22T08:57:04.125097Z",
     "iopub.status.idle": "2023-12-22T08:57:04.130930Z",
     "shell.execute_reply": "2023-12-22T08:57:04.129934Z"
    },
    "papermill": {
     "duration": 0.016056,
     "end_time": "2023-12-22T08:57:04.133591",
     "exception": false,
     "start_time": "2023-12-22T08:57:04.117535",
     "status": "completed"
    },
    "tags": []
   },
   "outputs": [],
   "source": [
    "#q_1.solution()"
   ]
  },
  {
   "cell_type": "markdown",
   "id": "ce5546b1",
   "metadata": {
    "papermill": {
     "duration": 0.005904,
     "end_time": "2023-12-22T08:57:04.145869",
     "exception": false,
     "start_time": "2023-12-22T08:57:04.139965",
     "status": "completed"
    },
    "tags": []
   },
   "source": [
    "### 2) Peek at the data\n",
    "\n",
    "Use the next code cell to peek at the top few rows of the data. Inspect the data and see if any issues with data quality are immediately obvious. "
   ]
  },
  {
   "cell_type": "code",
   "execution_count": 6,
   "id": "0d72cb91",
   "metadata": {
    "execution": {
     "iopub.execute_input": "2023-12-22T08:57:04.159774Z",
     "iopub.status.busy": "2023-12-22T08:57:04.159448Z",
     "iopub.status.idle": "2023-12-22T08:57:04.782431Z",
     "shell.execute_reply": "2023-12-22T08:57:04.781326Z"
    },
    "papermill": {
     "duration": 0.632161,
     "end_time": "2023-12-22T08:57:04.784263",
     "exception": false,
     "start_time": "2023-12-22T08:57:04.152102",
     "status": "completed"
    },
    "tags": []
   },
   "outputs": [
    {
     "data": {
      "text/html": [
       "<div>\n",
       "<style scoped>\n",
       "    .dataframe tbody tr th:only-of-type {\n",
       "        vertical-align: middle;\n",
       "    }\n",
       "\n",
       "    .dataframe tbody tr th {\n",
       "        vertical-align: top;\n",
       "    }\n",
       "\n",
       "    .dataframe thead th {\n",
       "        text-align: right;\n",
       "    }\n",
       "</style>\n",
       "<table border=\"1\" class=\"dataframe\">\n",
       "  <thead>\n",
       "    <tr style=\"text-align: right;\">\n",
       "      <th></th>\n",
       "      <th>unique_key</th>\n",
       "      <th>taxi_id</th>\n",
       "      <th>trip_start_timestamp</th>\n",
       "      <th>trip_end_timestamp</th>\n",
       "      <th>trip_seconds</th>\n",
       "      <th>trip_miles</th>\n",
       "      <th>pickup_census_tract</th>\n",
       "      <th>dropoff_census_tract</th>\n",
       "      <th>pickup_community_area</th>\n",
       "      <th>dropoff_community_area</th>\n",
       "      <th>...</th>\n",
       "      <th>extras</th>\n",
       "      <th>trip_total</th>\n",
       "      <th>payment_type</th>\n",
       "      <th>company</th>\n",
       "      <th>pickup_latitude</th>\n",
       "      <th>pickup_longitude</th>\n",
       "      <th>pickup_location</th>\n",
       "      <th>dropoff_latitude</th>\n",
       "      <th>dropoff_longitude</th>\n",
       "      <th>dropoff_location</th>\n",
       "    </tr>\n",
       "  </thead>\n",
       "  <tbody>\n",
       "    <tr>\n",
       "      <th>0</th>\n",
       "      <td>f37cef48d983edb5ae10ed2cdbdea6648cec2b90</td>\n",
       "      <td>ad4b1730fcbfdb84e41313179a688924012db322823f48...</td>\n",
       "      <td>2023-06-01 08:45:00+00:00</td>\n",
       "      <td>2023-06-01 08:45:00+00:00</td>\n",
       "      <td>57</td>\n",
       "      <td>0.0</td>\n",
       "      <td>NaN</td>\n",
       "      <td>NaN</td>\n",
       "      <td>NaN</td>\n",
       "      <td>NaN</td>\n",
       "      <td>...</td>\n",
       "      <td>0.0</td>\n",
       "      <td>3.50</td>\n",
       "      <td>Cash</td>\n",
       "      <td>Flash Cab</td>\n",
       "      <td>NaN</td>\n",
       "      <td>NaN</td>\n",
       "      <td>None</td>\n",
       "      <td>NaN</td>\n",
       "      <td>NaN</td>\n",
       "      <td>None</td>\n",
       "    </tr>\n",
       "    <tr>\n",
       "      <th>1</th>\n",
       "      <td>f4eb3ed7cf1456df3aee3d8375100afa2d30866a</td>\n",
       "      <td>b15d5dba7f578c2e93e08c66d7a9b57bc35c9f316265cb...</td>\n",
       "      <td>2023-06-25 19:45:00+00:00</td>\n",
       "      <td>2023-06-25 19:45:00+00:00</td>\n",
       "      <td>8</td>\n",
       "      <td>0.0</td>\n",
       "      <td>NaN</td>\n",
       "      <td>NaN</td>\n",
       "      <td>NaN</td>\n",
       "      <td>NaN</td>\n",
       "      <td>...</td>\n",
       "      <td>0.0</td>\n",
       "      <td>33.00</td>\n",
       "      <td>Credit Card</td>\n",
       "      <td>Taxicab Insurance Agency Llc</td>\n",
       "      <td>NaN</td>\n",
       "      <td>NaN</td>\n",
       "      <td>None</td>\n",
       "      <td>NaN</td>\n",
       "      <td>NaN</td>\n",
       "      <td>None</td>\n",
       "    </tr>\n",
       "    <tr>\n",
       "      <th>2</th>\n",
       "      <td>f3c8d1c292d3a4bfcd3c52103d8e9d1b278c4632</td>\n",
       "      <td>c9867d006415cbc16529555f98cdeb44cb53aeaf1d9ae7...</td>\n",
       "      <td>2023-06-03 22:45:00+00:00</td>\n",
       "      <td>2023-06-03 22:45:00+00:00</td>\n",
       "      <td>0</td>\n",
       "      <td>0.0</td>\n",
       "      <td>NaN</td>\n",
       "      <td>NaN</td>\n",
       "      <td>NaN</td>\n",
       "      <td>NaN</td>\n",
       "      <td>...</td>\n",
       "      <td>0.0</td>\n",
       "      <td>10.25</td>\n",
       "      <td>Cash</td>\n",
       "      <td>Taxi Affiliation Services</td>\n",
       "      <td>NaN</td>\n",
       "      <td>NaN</td>\n",
       "      <td>None</td>\n",
       "      <td>NaN</td>\n",
       "      <td>NaN</td>\n",
       "      <td>None</td>\n",
       "    </tr>\n",
       "    <tr>\n",
       "      <th>3</th>\n",
       "      <td>f5105921ebf789606e80d1fb1d736ba2a4093fd7</td>\n",
       "      <td>1ecd824aa3fbb5a17d617c3ce214040c91599cb342f7a7...</td>\n",
       "      <td>2023-06-17 16:45:00+00:00</td>\n",
       "      <td>2023-06-17 17:15:00+00:00</td>\n",
       "      <td>2100</td>\n",
       "      <td>0.0</td>\n",
       "      <td>NaN</td>\n",
       "      <td>NaN</td>\n",
       "      <td>NaN</td>\n",
       "      <td>NaN</td>\n",
       "      <td>...</td>\n",
       "      <td>23.5</td>\n",
       "      <td>50.00</td>\n",
       "      <td>Credit Card</td>\n",
       "      <td>Chicago City Taxi Association</td>\n",
       "      <td>NaN</td>\n",
       "      <td>NaN</td>\n",
       "      <td>None</td>\n",
       "      <td>NaN</td>\n",
       "      <td>NaN</td>\n",
       "      <td>None</td>\n",
       "    </tr>\n",
       "    <tr>\n",
       "      <th>4</th>\n",
       "      <td>f3f06434e7a81119d27954adddce9cdb88f927f5</td>\n",
       "      <td>520ceeda508661c3d09a4d7b85c955a6c971d0cca9c109...</td>\n",
       "      <td>2023-06-13 18:15:00+00:00</td>\n",
       "      <td>2023-06-13 18:15:00+00:00</td>\n",
       "      <td>25</td>\n",
       "      <td>0.0</td>\n",
       "      <td>NaN</td>\n",
       "      <td>NaN</td>\n",
       "      <td>NaN</td>\n",
       "      <td>NaN</td>\n",
       "      <td>...</td>\n",
       "      <td>0.0</td>\n",
       "      <td>30.50</td>\n",
       "      <td>Credit Card</td>\n",
       "      <td>Flash Cab</td>\n",
       "      <td>NaN</td>\n",
       "      <td>NaN</td>\n",
       "      <td>None</td>\n",
       "      <td>NaN</td>\n",
       "      <td>NaN</td>\n",
       "      <td>None</td>\n",
       "    </tr>\n",
       "  </tbody>\n",
       "</table>\n",
       "<p>5 rows × 23 columns</p>\n",
       "</div>"
      ],
      "text/plain": [
       "                                 unique_key  \\\n",
       "0  f37cef48d983edb5ae10ed2cdbdea6648cec2b90   \n",
       "1  f4eb3ed7cf1456df3aee3d8375100afa2d30866a   \n",
       "2  f3c8d1c292d3a4bfcd3c52103d8e9d1b278c4632   \n",
       "3  f5105921ebf789606e80d1fb1d736ba2a4093fd7   \n",
       "4  f3f06434e7a81119d27954adddce9cdb88f927f5   \n",
       "\n",
       "                                             taxi_id  \\\n",
       "0  ad4b1730fcbfdb84e41313179a688924012db322823f48...   \n",
       "1  b15d5dba7f578c2e93e08c66d7a9b57bc35c9f316265cb...   \n",
       "2  c9867d006415cbc16529555f98cdeb44cb53aeaf1d9ae7...   \n",
       "3  1ecd824aa3fbb5a17d617c3ce214040c91599cb342f7a7...   \n",
       "4  520ceeda508661c3d09a4d7b85c955a6c971d0cca9c109...   \n",
       "\n",
       "       trip_start_timestamp        trip_end_timestamp  trip_seconds  \\\n",
       "0 2023-06-01 08:45:00+00:00 2023-06-01 08:45:00+00:00            57   \n",
       "1 2023-06-25 19:45:00+00:00 2023-06-25 19:45:00+00:00             8   \n",
       "2 2023-06-03 22:45:00+00:00 2023-06-03 22:45:00+00:00             0   \n",
       "3 2023-06-17 16:45:00+00:00 2023-06-17 17:15:00+00:00          2100   \n",
       "4 2023-06-13 18:15:00+00:00 2023-06-13 18:15:00+00:00            25   \n",
       "\n",
       "   trip_miles  pickup_census_tract  dropoff_census_tract  \\\n",
       "0         0.0                  NaN                   NaN   \n",
       "1         0.0                  NaN                   NaN   \n",
       "2         0.0                  NaN                   NaN   \n",
       "3         0.0                  NaN                   NaN   \n",
       "4         0.0                  NaN                   NaN   \n",
       "\n",
       "   pickup_community_area  dropoff_community_area  ...  extras  trip_total  \\\n",
       "0                    NaN                     NaN  ...     0.0        3.50   \n",
       "1                    NaN                     NaN  ...     0.0       33.00   \n",
       "2                    NaN                     NaN  ...     0.0       10.25   \n",
       "3                    NaN                     NaN  ...    23.5       50.00   \n",
       "4                    NaN                     NaN  ...     0.0       30.50   \n",
       "\n",
       "   payment_type                        company  pickup_latitude  \\\n",
       "0          Cash                      Flash Cab              NaN   \n",
       "1   Credit Card   Taxicab Insurance Agency Llc              NaN   \n",
       "2          Cash      Taxi Affiliation Services              NaN   \n",
       "3   Credit Card  Chicago City Taxi Association              NaN   \n",
       "4   Credit Card                      Flash Cab              NaN   \n",
       "\n",
       "  pickup_longitude pickup_location  dropoff_latitude  dropoff_longitude  \\\n",
       "0              NaN            None               NaN                NaN   \n",
       "1              NaN            None               NaN                NaN   \n",
       "2              NaN            None               NaN                NaN   \n",
       "3              NaN            None               NaN                NaN   \n",
       "4              NaN            None               NaN                NaN   \n",
       "\n",
       "  dropoff_location  \n",
       "0             None  \n",
       "1             None  \n",
       "2             None  \n",
       "3             None  \n",
       "4             None  \n",
       "\n",
       "[5 rows x 23 columns]"
      ]
     },
     "execution_count": 6,
     "metadata": {},
     "output_type": "execute_result"
    }
   ],
   "source": [
    "table_ref = dataset_ref.table('taxi_trips')\n",
    "table = client.get_table(table_ref)\n",
    "\n",
    "client.list_rows(table,max_results=5).to_dataframe()"
   ]
  },
  {
   "cell_type": "markdown",
   "id": "0f68fc2c",
   "metadata": {
    "papermill": {
     "duration": 0.006012,
     "end_time": "2023-12-22T08:57:04.796622",
     "exception": false,
     "start_time": "2023-12-22T08:57:04.790610",
     "status": "completed"
    },
    "tags": []
   },
   "source": [
    "After deciding whether you see any important issues, run the code cell below."
   ]
  },
  {
   "cell_type": "code",
   "execution_count": 7,
   "id": "6f8b315e",
   "metadata": {
    "execution": {
     "iopub.execute_input": "2023-12-22T08:57:04.810724Z",
     "iopub.status.busy": "2023-12-22T08:57:04.810113Z",
     "iopub.status.idle": "2023-12-22T08:57:04.816008Z",
     "shell.execute_reply": "2023-12-22T08:57:04.815413Z"
    },
    "papermill": {
     "duration": 0.014916,
     "end_time": "2023-12-22T08:57:04.817655",
     "exception": false,
     "start_time": "2023-12-22T08:57:04.802739",
     "status": "completed"
    },
    "tags": []
   },
   "outputs": [
    {
     "data": {
      "application/javascript": [
       "parent.postMessage({\"jupyterEvent\": \"custom.exercise_interaction\", \"data\": {\"interactionType\": 3, \"questionType\": 4, \"questionId\": \"2_WhatsWrongWithData\", \"learnToolsVersion\": \"0.3.4\", \"valueTowardsCompletion\": 0.0, \"failureMessage\": \"\", \"exceptionClass\": \"\", \"trace\": \"\", \"outcomeType\": 4}}, \"*\")"
      ],
      "text/plain": [
       "<IPython.core.display.Javascript object>"
      ]
     },
     "metadata": {},
     "output_type": "display_data"
    },
    {
     "data": {
      "text/markdown": [
       "<span style=\"color:#33cc99\">Solution:</span> \n",
       "You can see the data by calling: \n",
       "```python\n",
       "# Construct a reference to the \"taxi_trips\" table\n",
       "table_ref = dataset_ref.table(\"taxi_trips\")\n",
       "\n",
       "# API request - fetch the table\n",
       "table = client.get_table(table_ref)\n",
       "\n",
       "# Preview the first five lines of the \"taxi_trips\" table\n",
       "client.list_rows(table, max_results=5).to_dataframe()\n",
       "```\n",
       "\n",
       "Some location fields have values of `None` or `NaN`. That is a problem if we want to use those fields.\n"
      ],
      "text/plain": [
       "Solution: \n",
       "You can see the data by calling: \n",
       "```python\n",
       "# Construct a reference to the \"taxi_trips\" table\n",
       "table_ref = dataset_ref.table(\"taxi_trips\")\n",
       "\n",
       "# API request - fetch the table\n",
       "table = client.get_table(table_ref)\n",
       "\n",
       "# Preview the first five lines of the \"taxi_trips\" table\n",
       "client.list_rows(table, max_results=5).to_dataframe()\n",
       "```\n",
       "\n",
       "Some location fields have values of `None` or `NaN`. That is a problem if we want to use those fields."
      ]
     },
     "metadata": {},
     "output_type": "display_data"
    }
   ],
   "source": [
    "# Check your answer (Run this code cell to receive credit!)\n",
    "q_2.solution()"
   ]
  },
  {
   "cell_type": "markdown",
   "id": "b4e8a795",
   "metadata": {
    "papermill": {
     "duration": 0.006286,
     "end_time": "2023-12-22T08:57:04.830392",
     "exception": false,
     "start_time": "2023-12-22T08:57:04.824106",
     "status": "completed"
    },
    "tags": []
   },
   "source": [
    "### 3) Determine when this data is from\n",
    "\n",
    "If the data is sufficiently old, we might be careful before assuming the data is still relevant to traffic patterns today. Write a query that counts the number of trips in each year.  \n",
    "\n",
    "Your results should have two columns:\n",
    "- `year` - the year of the trips\n",
    "- `num_trips` - the number of trips in that year\n",
    "\n",
    "Hints:\n",
    "- When using **GROUP BY** and **ORDER BY**, you should refer to the columns by the alias `year` that you set at the top of the **SELECT** query.\n",
    "- The SQL code to **SELECT** the year from `trip_start_timestamp` is <code>SELECT EXTRACT(YEAR FROM trip_start_timestamp)</code>\n",
    "- The **FROM** field can be a little tricky until you are used to it.  The format is:\n",
    "    1. A backick (the symbol \\`).\n",
    "    2. The project name. In this case it is `bigquery-public-data`.\n",
    "    3. A period.\n",
    "    4. The dataset name. In this case, it is `chicago_taxi_trips`.\n",
    "    5. A period.\n",
    "    6. The table name. You used this as your answer in **1) Find the data**.\n",
    "    7. A backtick (the symbol \\`)."
   ]
  },
  {
   "cell_type": "code",
   "execution_count": 8,
   "id": "d1527912",
   "metadata": {
    "execution": {
     "iopub.execute_input": "2023-12-22T08:57:04.846278Z",
     "iopub.status.busy": "2023-12-22T08:57:04.845728Z",
     "iopub.status.idle": "2023-12-22T08:57:05.798807Z",
     "shell.execute_reply": "2023-12-22T08:57:05.797790Z"
    },
    "papermill": {
     "duration": 0.962729,
     "end_time": "2023-12-22T08:57:05.800462",
     "exception": false,
     "start_time": "2023-12-22T08:57:04.837733",
     "status": "completed"
    },
    "tags": []
   },
   "outputs": [
    {
     "name": "stdout",
     "output_type": "stream",
     "text": [
      "    num_trips  Year\n",
      "0    27217300  2013\n",
      "1    37395079  2014\n",
      "2    32385527  2015\n",
      "3    31756403  2016\n",
      "4    24979611  2017\n",
      "5    20731105  2018\n",
      "6    16476440  2019\n",
      "7     3888831  2020\n",
      "8     3947677  2021\n",
      "9     6382071  2022\n",
      "10    6030387  2023\n"
     ]
    },
    {
     "data": {
      "application/javascript": [
       "parent.postMessage({\"jupyterEvent\": \"custom.exercise_interaction\", \"data\": {\"outcomeType\": 1, \"valueTowardsCompletion\": 0.16666666666666666, \"interactionType\": 1, \"questionType\": 2, \"questionId\": \"3_YearDistrib\", \"learnToolsVersion\": \"0.3.4\", \"failureMessage\": \"\", \"exceptionClass\": \"\", \"trace\": \"\"}}, \"*\")"
      ],
      "text/plain": [
       "<IPython.core.display.Javascript object>"
      ]
     },
     "metadata": {},
     "output_type": "display_data"
    },
    {
     "data": {
      "text/markdown": [
       "<span style=\"color:#33cc33\">Correct</span>"
      ],
      "text/plain": [
       "Correct"
      ]
     },
     "metadata": {},
     "output_type": "display_data"
    }
   ],
   "source": [
    "# Your code goes here\n",
    "rides_per_year_query = \"\"\"\n",
    "                        SELECT COUNT(1) AS num_trips,\n",
    "                               EXTRACT(YEAR from trip_start_timestamp) as Year\n",
    "                        FROM `bigquery-public-data.chicago_taxi_trips.taxi_trips`\n",
    "                        GROUP BY year\n",
    "                        ORDER BY year\n",
    "                       \"\"\"\n",
    "\n",
    "# Set up the query (cancel the query if it would use too much of \n",
    "# your quota)\n",
    "\n",
    "safe_config = bigquery.QueryJobConfig(maximum_bytes_billed=10**10)\n",
    "rides_per_year_query_job = client.query(rides_per_year_query,job_config=safe_config) # Your code goes here\n",
    "\n",
    "# API request - run the query, and return a pandas DataFrame\n",
    "rides_per_year_result = rides_per_year_query_job.to_dataframe() # Your code goes here\n",
    "\n",
    "# View results\n",
    "print(rides_per_year_result)\n",
    "\n",
    "# Check your answer\n",
    "q_3.check()"
   ]
  },
  {
   "cell_type": "markdown",
   "id": "9d63439f",
   "metadata": {
    "papermill": {
     "duration": 0.006383,
     "end_time": "2023-12-22T08:57:05.814106",
     "exception": false,
     "start_time": "2023-12-22T08:57:05.807723",
     "status": "completed"
    },
    "tags": []
   },
   "source": [
    "For a hint or the solution, uncomment the appropriate line below."
   ]
  },
  {
   "cell_type": "code",
   "execution_count": 9,
   "id": "ad2d163b",
   "metadata": {
    "execution": {
     "iopub.execute_input": "2023-12-22T08:57:05.829302Z",
     "iopub.status.busy": "2023-12-22T08:57:05.828659Z",
     "iopub.status.idle": "2023-12-22T08:57:05.832088Z",
     "shell.execute_reply": "2023-12-22T08:57:05.831417Z"
    },
    "papermill": {
     "duration": 0.012942,
     "end_time": "2023-12-22T08:57:05.833648",
     "exception": false,
     "start_time": "2023-12-22T08:57:05.820706",
     "status": "completed"
    },
    "tags": []
   },
   "outputs": [],
   "source": [
    "#q_3.hint()\n",
    "# q_3.solution()"
   ]
  },
  {
   "cell_type": "markdown",
   "id": "87b2f192",
   "metadata": {
    "papermill": {
     "duration": 0.006429,
     "end_time": "2023-12-22T08:57:05.847137",
     "exception": false,
     "start_time": "2023-12-22T08:57:05.840708",
     "status": "completed"
    },
    "tags": []
   },
   "source": [
    "### 4) Dive slightly deeper\n",
    "\n",
    "You'd like to take a closer look at rides from 2016.  Copy the query you used above in `rides_per_year_query` into the cell below for `rides_per_month_query`.  Then modify it in two ways:\n",
    "1. Use a **WHERE** clause to limit the query to data from 2016.\n",
    "2. Modify the query to extract the month rather than the year."
   ]
  },
  {
   "cell_type": "code",
   "execution_count": 10,
   "id": "4f7df884",
   "metadata": {
    "execution": {
     "iopub.execute_input": "2023-12-22T08:57:05.862040Z",
     "iopub.status.busy": "2023-12-22T08:57:05.861686Z",
     "iopub.status.idle": "2023-12-22T08:57:06.855820Z",
     "shell.execute_reply": "2023-12-22T08:57:06.854872Z"
    },
    "papermill": {
     "duration": 1.003609,
     "end_time": "2023-12-22T08:57:06.857522",
     "exception": false,
     "start_time": "2023-12-22T08:57:05.853913",
     "status": "completed"
    },
    "tags": []
   },
   "outputs": [
    {
     "name": "stdout",
     "output_type": "stream",
     "text": [
      "    month  num_trips\n",
      "0       1    2510389\n",
      "1       2    2568433\n",
      "2       3    2851106\n",
      "3       4    2854290\n",
      "4       5    2859147\n",
      "5       6    2841872\n",
      "6       7    2682912\n",
      "7       8    2629482\n",
      "8       9    2532650\n",
      "9      10    2725340\n",
      "10     11    2387790\n",
      "11     12    2312992\n"
     ]
    },
    {
     "data": {
      "application/javascript": [
       "parent.postMessage({\"jupyterEvent\": \"custom.exercise_interaction\", \"data\": {\"outcomeType\": 1, \"valueTowardsCompletion\": 0.16666666666666666, \"interactionType\": 1, \"questionType\": 2, \"questionId\": \"4_MonthDistrib\", \"learnToolsVersion\": \"0.3.4\", \"failureMessage\": \"\", \"exceptionClass\": \"\", \"trace\": \"\"}}, \"*\")"
      ],
      "text/plain": [
       "<IPython.core.display.Javascript object>"
      ]
     },
     "metadata": {},
     "output_type": "display_data"
    },
    {
     "data": {
      "text/markdown": [
       "<span style=\"color:#33cc33\">Correct</span>"
      ],
      "text/plain": [
       "Correct"
      ]
     },
     "metadata": {},
     "output_type": "display_data"
    }
   ],
   "source": [
    "rides_per_month_query = \"\"\"\n",
    "                        SELECT EXTRACT(MONTH FROM trip_start_timestamp) AS month, \n",
    "                               COUNT(1) AS num_trips\n",
    "                        FROM `bigquery-public-data.chicago_taxi_trips.taxi_trips`\n",
    "                        WHERE EXTRACT(YEAR FROM trip_start_timestamp) = 2016\n",
    "                        GROUP BY month\n",
    "                        ORDER BY month\n",
    "                        \"\"\"\n",
    "\n",
    "safe_config = bigquery.QueryJobConfig(maximum_bytes_billed=10**10)\n",
    "rides_per_month_query_job = client.query(rides_per_month_query,job_config=safe_config) \n",
    "\n",
    "rides_per_month_result = rides_per_month_query_job.to_dataframe() \n",
    "print(rides_per_month_result)\n",
    "\n",
    "\n",
    "# Check your answer\n",
    "q_4.check()"
   ]
  },
  {
   "cell_type": "markdown",
   "id": "532bb516",
   "metadata": {
    "papermill": {
     "duration": 0.007052,
     "end_time": "2023-12-22T08:57:06.872897",
     "exception": false,
     "start_time": "2023-12-22T08:57:06.865845",
     "status": "completed"
    },
    "tags": []
   },
   "source": [
    "For a hint or the solution, uncomment the appropriate line below."
   ]
  },
  {
   "cell_type": "code",
   "execution_count": 11,
   "id": "8f948a7e",
   "metadata": {
    "execution": {
     "iopub.execute_input": "2023-12-22T08:57:06.889620Z",
     "iopub.status.busy": "2023-12-22T08:57:06.888992Z",
     "iopub.status.idle": "2023-12-22T08:57:06.892214Z",
     "shell.execute_reply": "2023-12-22T08:57:06.891612Z"
    },
    "papermill": {
     "duration": 0.01403,
     "end_time": "2023-12-22T08:57:06.893969",
     "exception": false,
     "start_time": "2023-12-22T08:57:06.879939",
     "status": "completed"
    },
    "tags": []
   },
   "outputs": [],
   "source": [
    "#q_4.hint()\n",
    "# q_4.solution()"
   ]
  },
  {
   "cell_type": "markdown",
   "id": "6ab057da",
   "metadata": {
    "papermill": {
     "duration": 0.006616,
     "end_time": "2023-12-22T08:57:06.908288",
     "exception": false,
     "start_time": "2023-12-22T08:57:06.901672",
     "status": "completed"
    },
    "tags": []
   },
   "source": [
    "### 5) Write the query\n",
    "\n",
    "It's time to step up the sophistication of your queries.  Write a query that shows, for each hour of the day in the dataset, the corresponding number of trips and average speed.\n",
    "\n",
    "Your results should have three columns:\n",
    "- `hour_of_day` - sort by this column, which holds the result of extracting the hour from `trip_start_timestamp`.\n",
    "- `num_trips` - the count of the total number of trips in each hour of the day (e.g. how many trips were started between 6AM and 7AM, independent of which day it occurred on).\n",
    "- `avg_mph` - the average speed, measured in miles per hour, for trips that started in that hour of the day.  Average speed in miles per hour is calculated as `3600 * SUM(trip_miles) / SUM(trip_seconds)`. (The value 3600 is used to convert from seconds to hours.)\n",
    "\n",
    "Restrict your query to data meeting the following criteria:\n",
    "- a `trip_start_timestamp` > **2016-01-01** and < **2016-04-01**\n",
    "- `trip_seconds` > 0 and `trip_miles` > 0\n",
    "\n",
    "You will use a common table expression (CTE) to select just the relevant rides.  Because this dataset is very big, this CTE should select only the columns you'll need to create the final output (though you won't actually create those in the CTE -- instead you'll create those in the later **SELECT** statement below the CTE).\n",
    "\n",
    "This is a much harder query than anything you've written so far.  Good luck!"
   ]
  },
  {
   "cell_type": "code",
   "execution_count": 12,
   "id": "521d490f",
   "metadata": {
    "execution": {
     "iopub.execute_input": "2023-12-22T08:57:06.923947Z",
     "iopub.status.busy": "2023-12-22T08:57:06.923597Z",
     "iopub.status.idle": "2023-12-22T08:57:07.989990Z",
     "shell.execute_reply": "2023-12-22T08:57:07.989351Z"
    },
    "papermill": {
     "duration": 1.076503,
     "end_time": "2023-12-22T08:57:07.991707",
     "exception": false,
     "start_time": "2023-12-22T08:57:06.915204",
     "status": "completed"
    },
    "tags": []
   },
   "outputs": [
    {
     "name": "stdout",
     "output_type": "stream",
     "text": [
      "    hour_of_day  num_trips    avg_mph\n",
      "0             0     203092  20.191744\n",
      "1             1     178046  18.628598\n",
      "2             2     143447  18.444370\n",
      "3             3     108899  19.273107\n",
      "4             4      80067  27.599669\n",
      "5             5      75786  33.065604\n",
      "6             6     102254  28.533112\n",
      "7             7     187585  19.884592\n",
      "8             8     284223  16.787900\n",
      "9             9     306854  18.434124\n",
      "10           10     279762  20.091309\n",
      "11           11     294006  20.926340\n",
      "12           12     311522  20.063901\n",
      "13           13     317225  19.766321\n",
      "14           14     312629  19.309655\n",
      "15           15     319953  18.515564\n",
      "16           16     349455  17.168814\n",
      "17           17     394324  14.641375\n",
      "18           18     431991  15.381995\n",
      "19           19     416743  17.795008\n",
      "20           20     356279  20.347398\n",
      "21           21     318363  22.584731\n",
      "22           22     289886  21.129847\n",
      "23           23     241690  20.259757\n"
     ]
    },
    {
     "data": {
      "application/javascript": [
       "parent.postMessage({\"jupyterEvent\": \"custom.exercise_interaction\", \"data\": {\"outcomeType\": 1, \"valueTowardsCompletion\": 0.16666666666666666, \"interactionType\": 1, \"questionType\": 2, \"questionId\": \"5_TheLongQuery\", \"learnToolsVersion\": \"0.3.4\", \"failureMessage\": \"\", \"exceptionClass\": \"\", \"trace\": \"\"}}, \"*\")"
      ],
      "text/plain": [
       "<IPython.core.display.Javascript object>"
      ]
     },
     "metadata": {},
     "output_type": "display_data"
    },
    {
     "data": {
      "text/markdown": [
       "<span style=\"color:#33cc33\">Correct</span>"
      ],
      "text/plain": [
       "Correct"
      ]
     },
     "metadata": {},
     "output_type": "display_data"
    }
   ],
   "source": [
    "# Your code goes here\n",
    "speeds_query = \"\"\"\n",
    "               WITH RelevantRides AS\n",
    "               (\n",
    "                   SELECT trip_seconds,\n",
    "                          trip_miles,\n",
    "                          EXTRACT(HOUR FROM trip_start_timestamp) AS hour_of_day\n",
    "                   FROM `bigquery-public-data.chicago_taxi_trips.taxi_trips`\n",
    "                   WHERE trip_start_timestamp > '2016-01-01' and trip_start_timestamp < '2016-04-01' and trip_seconds > 0 and trip_miles > 0\n",
    "               )\n",
    "               SELECT hour_of_day,\n",
    "                      COUNT(1) AS num_trips,\n",
    "                      3600*SUM(trip_miles) / SUM(trip_seconds) AS avg_mph\n",
    "               FROM RelevantRides\n",
    "               GROUP BY hour_of_day\n",
    "               ORDER BY hour_of_day\n",
    "               \"\"\"\n",
    "\n",
    "# Set up the query\n",
    "safe_config = bigquery.QueryJobConfig(maximum_bytes_billed=10**10)\n",
    "speeds_query_job = client.query(speeds_query,job_config=safe_config) # Your code here\n",
    "\n",
    "# API request - run the query, and return a pandas DataFrame\n",
    "speeds_result = speeds_query_job.to_dataframe() # Your code here\n",
    "\n",
    "# View results\n",
    "print(speeds_result)\n",
    "\n",
    "# Check your answer\n",
    "q_5.check()"
   ]
  },
  {
   "cell_type": "markdown",
   "id": "3876a477",
   "metadata": {
    "papermill": {
     "duration": 0.007187,
     "end_time": "2023-12-22T08:57:08.006947",
     "exception": false,
     "start_time": "2023-12-22T08:57:07.999760",
     "status": "completed"
    },
    "tags": []
   },
   "source": [
    "For the solution, uncomment the appropriate line below."
   ]
  },
  {
   "cell_type": "code",
   "execution_count": 13,
   "id": "f7c6442e",
   "metadata": {
    "execution": {
     "iopub.execute_input": "2023-12-22T08:57:08.025902Z",
     "iopub.status.busy": "2023-12-22T08:57:08.025300Z",
     "iopub.status.idle": "2023-12-22T08:57:08.030111Z",
     "shell.execute_reply": "2023-12-22T08:57:08.029534Z"
    },
    "papermill": {
     "duration": 0.016138,
     "end_time": "2023-12-22T08:57:08.031860",
     "exception": false,
     "start_time": "2023-12-22T08:57:08.015722",
     "status": "completed"
    },
    "tags": []
   },
   "outputs": [],
   "source": [
    "# q_5.solution()"
   ]
  },
  {
   "cell_type": "markdown",
   "id": "abd01115",
   "metadata": {
    "papermill": {
     "duration": 0.007118,
     "end_time": "2023-12-22T08:57:08.047248",
     "exception": false,
     "start_time": "2023-12-22T08:57:08.040130",
     "status": "completed"
    },
    "tags": []
   },
   "source": [
    "That's a hard query. If you made good progress towards the solution, congratulations!"
   ]
  },
  {
   "cell_type": "markdown",
   "id": "b193727f",
   "metadata": {
    "papermill": {
     "duration": 0.006814,
     "end_time": "2023-12-22T08:57:08.061139",
     "exception": false,
     "start_time": "2023-12-22T08:57:08.054325",
     "status": "completed"
    },
    "tags": []
   },
   "source": [
    "# Keep going\n",
    "\n",
    "You can write very complex queries now with a single data source. But nothing expands the horizons of SQL as much as the ability to combine or **JOIN** tables.\n",
    "\n",
    "**[Click here](https://www.kaggle.com/dansbecker/joining-data)** to start the last lesson in the Intro to SQL course."
   ]
  },
  {
   "cell_type": "markdown",
   "id": "41943f20",
   "metadata": {
    "papermill": {
     "duration": 0.007749,
     "end_time": "2023-12-22T08:57:08.077467",
     "exception": false,
     "start_time": "2023-12-22T08:57:08.069718",
     "status": "completed"
    },
    "tags": []
   },
   "source": [
    "---\n",
    "\n",
    "\n",
    "\n",
    "\n",
    "*Have questions or comments? Visit the [course discussion forum](https://www.kaggle.com/learn/intro-to-sql/discussion) to chat with other learners.*"
   ]
  }
 ],
 "metadata": {
  "kaggle": {
   "accelerator": "none",
   "dataSources": [
    {
     "datasetId": 22219,
     "sourceId": 28536,
     "sourceType": "datasetVersion"
    },
    {
     "datasetId": 11496,
     "sourceId": 285947,
     "sourceType": "datasetVersion"
    }
   ],
   "isGpuEnabled": false,
   "isInternetEnabled": false,
   "language": "python",
   "sourceType": "notebook"
  },
  "kernelspec": {
   "display_name": "Python 3",
   "language": "python",
   "name": "python3"
  },
  "language_info": {
   "codemirror_mode": {
    "name": "ipython",
    "version": 3
   },
   "file_extension": ".py",
   "mimetype": "text/x-python",
   "name": "python",
   "nbconvert_exporter": "python",
   "pygments_lexer": "ipython3",
   "version": "3.10.12"
  },
  "papermill": {
   "default_parameters": {},
   "duration": 55.019406,
   "end_time": "2023-12-22T08:57:08.804432",
   "environment_variables": {},
   "exception": null,
   "input_path": "__notebook__.ipynb",
   "output_path": "__notebook__.ipynb",
   "parameters": {},
   "start_time": "2023-12-22T08:56:13.785026",
   "version": "2.4.0"
  }
 },
 "nbformat": 4,
 "nbformat_minor": 5
}
